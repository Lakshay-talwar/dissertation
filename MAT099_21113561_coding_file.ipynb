{
  "nbformat": 4,
  "nbformat_minor": 0,
  "metadata": {
    "colab": {
      "provenance": []
    },
    "kernelspec": {
      "name": "python3",
      "display_name": "Python 3"
    },
    "language_info": {
      "name": "python"
    },
    "gpuClass": "standard"
  },
  "cells": [
    {
      "cell_type": "code",
      "execution_count": null,
      "metadata": {
        "id": "x-brwpOPkxhq"
      },
      "outputs": [],
      "source": [
        "import numpy as np # linear algebra\n",
        "import pandas as pd # data processing, CSV file I/O (e.g. pd.read_csv)\n",
        "\n",
        "# Input data files are available in the read-only \"../input/\" directory\n",
        "# For example, running this (by clicking run or pressing Shift+Enter) will list all files under the input directory\n",
        "\n",
        "import os\n",
        "for dirname, _, filenames in os.walk('/kaggle/input'):\n",
        "    for filename in filenames:\n",
        "        print(os.path.join(dirname, filename))\n",
        "\n",
        "# You can write up to 20GB to the current directory (/kaggle/working/) that gets preserved as output when you create a version using \"Save & Run All\"\n",
        "# You can also write temporary files to /kaggle/temp/, but they won't be saved outside of the current session\n"
      ]
    },
    {
      "cell_type": "code",
      "source": [
        "# importing datasets\n",
        "import pandas as pd\n",
        "import numpy as np\n",
        "from matplotlib import pyplot as plt\n",
        "import seaborn as sns"
      ],
      "metadata": {
        "id": "5TSJFv12lBbj"
      },
      "execution_count": null,
      "outputs": []
    },
    {
      "cell_type": "code",
      "source": [
        "# Reading Data Set\n",
        "from google.colab import drive\n",
        "drive.mount(\"/content/gdrive\")\n",
        "\n",
        "\n",
        "# Importing the dataset (Link - https://drive.google.com/file/d/1GBP8p2PMLyo4KK_9CjnTF0g0pDiq85_m/view?usp=sharing)\n",
        "df = pd.read_csv('/content/gdrive/MyDrive/Dissertation dataset/car_evaluation (version 1).csv', header = 0)"
      ],
      "metadata": {
        "id": "oHAlEy74hJTP",
        "colab": {
          "base_uri": "https://localhost:8080/"
        },
        "outputId": "5c3242f8-a801-49e4-8a43-2ce78734a39e"
      },
      "execution_count": null,
      "outputs": [
        {
          "output_type": "stream",
          "name": "stdout",
          "text": [
            "Mounted at /content/gdrive\n"
          ]
        }
      ]
    },
    {
      "cell_type": "code",
      "source": [
        "#df = pd.read_csv(\"../sample_data/car_evaluation.csv\",header=0)\n",
        "df.describe()"
      ],
      "metadata": {
        "id": "DlPMbot-lFl8",
        "colab": {
          "base_uri": "https://localhost:8080/",
          "height": 175
        },
        "outputId": "0d7dd320-7a43-479c-c0cd-e2b747f643b2"
      },
      "execution_count": null,
      "outputs": [
        {
          "output_type": "execute_result",
          "data": {
            "text/plain": [
              "       buying price maintenance cost number of doors number of persons  \\\n",
              "count          1728             1728            1728              1728   \n",
              "unique            4                4               4                 3   \n",
              "top           vhigh            vhigh               2                 2   \n",
              "freq            432              432             432               576   \n",
              "\n",
              "       lug_boot safety decision  \n",
              "count      1728   1728     1728  \n",
              "unique        3      3        4  \n",
              "top       small    low    unacc  \n",
              "freq        576    576     1210  "
            ],
            "text/html": [
              "\n",
              "  <div id=\"df-ac747fcd-fbe1-414f-9d7e-8a76166d3652\">\n",
              "    <div class=\"colab-df-container\">\n",
              "      <div>\n",
              "<style scoped>\n",
              "    .dataframe tbody tr th:only-of-type {\n",
              "        vertical-align: middle;\n",
              "    }\n",
              "\n",
              "    .dataframe tbody tr th {\n",
              "        vertical-align: top;\n",
              "    }\n",
              "\n",
              "    .dataframe thead th {\n",
              "        text-align: right;\n",
              "    }\n",
              "</style>\n",
              "<table border=\"1\" class=\"dataframe\">\n",
              "  <thead>\n",
              "    <tr style=\"text-align: right;\">\n",
              "      <th></th>\n",
              "      <th>buying price</th>\n",
              "      <th>maintenance cost</th>\n",
              "      <th>number of doors</th>\n",
              "      <th>number of persons</th>\n",
              "      <th>lug_boot</th>\n",
              "      <th>safety</th>\n",
              "      <th>decision</th>\n",
              "    </tr>\n",
              "  </thead>\n",
              "  <tbody>\n",
              "    <tr>\n",
              "      <th>count</th>\n",
              "      <td>1728</td>\n",
              "      <td>1728</td>\n",
              "      <td>1728</td>\n",
              "      <td>1728</td>\n",
              "      <td>1728</td>\n",
              "      <td>1728</td>\n",
              "      <td>1728</td>\n",
              "    </tr>\n",
              "    <tr>\n",
              "      <th>unique</th>\n",
              "      <td>4</td>\n",
              "      <td>4</td>\n",
              "      <td>4</td>\n",
              "      <td>3</td>\n",
              "      <td>3</td>\n",
              "      <td>3</td>\n",
              "      <td>4</td>\n",
              "    </tr>\n",
              "    <tr>\n",
              "      <th>top</th>\n",
              "      <td>vhigh</td>\n",
              "      <td>vhigh</td>\n",
              "      <td>2</td>\n",
              "      <td>2</td>\n",
              "      <td>small</td>\n",
              "      <td>low</td>\n",
              "      <td>unacc</td>\n",
              "    </tr>\n",
              "    <tr>\n",
              "      <th>freq</th>\n",
              "      <td>432</td>\n",
              "      <td>432</td>\n",
              "      <td>432</td>\n",
              "      <td>576</td>\n",
              "      <td>576</td>\n",
              "      <td>576</td>\n",
              "      <td>1210</td>\n",
              "    </tr>\n",
              "  </tbody>\n",
              "</table>\n",
              "</div>\n",
              "      <button class=\"colab-df-convert\" onclick=\"convertToInteractive('df-ac747fcd-fbe1-414f-9d7e-8a76166d3652')\"\n",
              "              title=\"Convert this dataframe to an interactive table.\"\n",
              "              style=\"display:none;\">\n",
              "        \n",
              "  <svg xmlns=\"http://www.w3.org/2000/svg\" height=\"24px\"viewBox=\"0 0 24 24\"\n",
              "       width=\"24px\">\n",
              "    <path d=\"M0 0h24v24H0V0z\" fill=\"none\"/>\n",
              "    <path d=\"M18.56 5.44l.94 2.06.94-2.06 2.06-.94-2.06-.94-.94-2.06-.94 2.06-2.06.94zm-11 1L8.5 8.5l.94-2.06 2.06-.94-2.06-.94L8.5 2.5l-.94 2.06-2.06.94zm10 10l.94 2.06.94-2.06 2.06-.94-2.06-.94-.94-2.06-.94 2.06-2.06.94z\"/><path d=\"M17.41 7.96l-1.37-1.37c-.4-.4-.92-.59-1.43-.59-.52 0-1.04.2-1.43.59L10.3 9.45l-7.72 7.72c-.78.78-.78 2.05 0 2.83L4 21.41c.39.39.9.59 1.41.59.51 0 1.02-.2 1.41-.59l7.78-7.78 2.81-2.81c.8-.78.8-2.07 0-2.86zM5.41 20L4 18.59l7.72-7.72 1.47 1.35L5.41 20z\"/>\n",
              "  </svg>\n",
              "      </button>\n",
              "      \n",
              "  <style>\n",
              "    .colab-df-container {\n",
              "      display:flex;\n",
              "      flex-wrap:wrap;\n",
              "      gap: 12px;\n",
              "    }\n",
              "\n",
              "    .colab-df-convert {\n",
              "      background-color: #E8F0FE;\n",
              "      border: none;\n",
              "      border-radius: 50%;\n",
              "      cursor: pointer;\n",
              "      display: none;\n",
              "      fill: #1967D2;\n",
              "      height: 32px;\n",
              "      padding: 0 0 0 0;\n",
              "      width: 32px;\n",
              "    }\n",
              "\n",
              "    .colab-df-convert:hover {\n",
              "      background-color: #E2EBFA;\n",
              "      box-shadow: 0px 1px 2px rgba(60, 64, 67, 0.3), 0px 1px 3px 1px rgba(60, 64, 67, 0.15);\n",
              "      fill: #174EA6;\n",
              "    }\n",
              "\n",
              "    [theme=dark] .colab-df-convert {\n",
              "      background-color: #3B4455;\n",
              "      fill: #D2E3FC;\n",
              "    }\n",
              "\n",
              "    [theme=dark] .colab-df-convert:hover {\n",
              "      background-color: #434B5C;\n",
              "      box-shadow: 0px 1px 3px 1px rgba(0, 0, 0, 0.15);\n",
              "      filter: drop-shadow(0px 1px 2px rgba(0, 0, 0, 0.3));\n",
              "      fill: #FFFFFF;\n",
              "    }\n",
              "  </style>\n",
              "\n",
              "      <script>\n",
              "        const buttonEl =\n",
              "          document.querySelector('#df-ac747fcd-fbe1-414f-9d7e-8a76166d3652 button.colab-df-convert');\n",
              "        buttonEl.style.display =\n",
              "          google.colab.kernel.accessAllowed ? 'block' : 'none';\n",
              "\n",
              "        async function convertToInteractive(key) {\n",
              "          const element = document.querySelector('#df-ac747fcd-fbe1-414f-9d7e-8a76166d3652');\n",
              "          const dataTable =\n",
              "            await google.colab.kernel.invokeFunction('convertToInteractive',\n",
              "                                                     [key], {});\n",
              "          if (!dataTable) return;\n",
              "\n",
              "          const docLinkHtml = 'Like what you see? Visit the ' +\n",
              "            '<a target=\"_blank\" href=https://colab.research.google.com/notebooks/data_table.ipynb>data table notebook</a>'\n",
              "            + ' to learn more about interactive tables.';\n",
              "          element.innerHTML = '';\n",
              "          dataTable['output_type'] = 'display_data';\n",
              "          await google.colab.output.renderOutput(dataTable, element);\n",
              "          const docLink = document.createElement('div');\n",
              "          docLink.innerHTML = docLinkHtml;\n",
              "          element.appendChild(docLink);\n",
              "        }\n",
              "      </script>\n",
              "    </div>\n",
              "  </div>\n",
              "  "
            ]
          },
          "metadata": {},
          "execution_count": 4
        }
      ]
    },
    {
      "cell_type": "code",
      "source": [
        "columns = [\"Buy_price\",\"mcost\",\"ndoors\",\"nop\",\"lug_boot\",\"safety\",\"decision\"]\n",
        "df.columns = columns"
      ],
      "metadata": {
        "id": "-T5l4Qi9lLKU"
      },
      "execution_count": null,
      "outputs": []
    },
    {
      "cell_type": "code",
      "source": [
        "df"
      ],
      "metadata": {
        "colab": {
          "base_uri": "https://localhost:8080/",
          "height": 424
        },
        "id": "11z-YrVCNMAd",
        "outputId": "f6de244e-2be4-41f5-b99d-797081b9bfcb"
      },
      "execution_count": null,
      "outputs": [
        {
          "output_type": "execute_result",
          "data": {
            "text/plain": [
              "     Buy_price  mcost ndoors   nop lug_boot safety decision\n",
              "0        vhigh  vhigh      2     2    small    low    unacc\n",
              "1        vhigh  vhigh      2     2    small    med    unacc\n",
              "2        vhigh  vhigh      2     2    small   high    unacc\n",
              "3        vhigh  vhigh      2     2      med    low    unacc\n",
              "4        vhigh  vhigh      2     2      med    med    unacc\n",
              "...        ...    ...    ...   ...      ...    ...      ...\n",
              "1723       low    low  5more  more      med    med     good\n",
              "1724       low    low  5more  more      med   high    vgood\n",
              "1725       low    low  5more  more      big    low    unacc\n",
              "1726       low    low  5more  more      big    med     good\n",
              "1727       low    low  5more  more      big   high    vgood\n",
              "\n",
              "[1728 rows x 7 columns]"
            ],
            "text/html": [
              "\n",
              "  <div id=\"df-7ef7b65b-9adb-4f5b-af84-bcd0dbf09cce\">\n",
              "    <div class=\"colab-df-container\">\n",
              "      <div>\n",
              "<style scoped>\n",
              "    .dataframe tbody tr th:only-of-type {\n",
              "        vertical-align: middle;\n",
              "    }\n",
              "\n",
              "    .dataframe tbody tr th {\n",
              "        vertical-align: top;\n",
              "    }\n",
              "\n",
              "    .dataframe thead th {\n",
              "        text-align: right;\n",
              "    }\n",
              "</style>\n",
              "<table border=\"1\" class=\"dataframe\">\n",
              "  <thead>\n",
              "    <tr style=\"text-align: right;\">\n",
              "      <th></th>\n",
              "      <th>Buy_price</th>\n",
              "      <th>mcost</th>\n",
              "      <th>ndoors</th>\n",
              "      <th>nop</th>\n",
              "      <th>lug_boot</th>\n",
              "      <th>safety</th>\n",
              "      <th>decision</th>\n",
              "    </tr>\n",
              "  </thead>\n",
              "  <tbody>\n",
              "    <tr>\n",
              "      <th>0</th>\n",
              "      <td>vhigh</td>\n",
              "      <td>vhigh</td>\n",
              "      <td>2</td>\n",
              "      <td>2</td>\n",
              "      <td>small</td>\n",
              "      <td>low</td>\n",
              "      <td>unacc</td>\n",
              "    </tr>\n",
              "    <tr>\n",
              "      <th>1</th>\n",
              "      <td>vhigh</td>\n",
              "      <td>vhigh</td>\n",
              "      <td>2</td>\n",
              "      <td>2</td>\n",
              "      <td>small</td>\n",
              "      <td>med</td>\n",
              "      <td>unacc</td>\n",
              "    </tr>\n",
              "    <tr>\n",
              "      <th>2</th>\n",
              "      <td>vhigh</td>\n",
              "      <td>vhigh</td>\n",
              "      <td>2</td>\n",
              "      <td>2</td>\n",
              "      <td>small</td>\n",
              "      <td>high</td>\n",
              "      <td>unacc</td>\n",
              "    </tr>\n",
              "    <tr>\n",
              "      <th>3</th>\n",
              "      <td>vhigh</td>\n",
              "      <td>vhigh</td>\n",
              "      <td>2</td>\n",
              "      <td>2</td>\n",
              "      <td>med</td>\n",
              "      <td>low</td>\n",
              "      <td>unacc</td>\n",
              "    </tr>\n",
              "    <tr>\n",
              "      <th>4</th>\n",
              "      <td>vhigh</td>\n",
              "      <td>vhigh</td>\n",
              "      <td>2</td>\n",
              "      <td>2</td>\n",
              "      <td>med</td>\n",
              "      <td>med</td>\n",
              "      <td>unacc</td>\n",
              "    </tr>\n",
              "    <tr>\n",
              "      <th>...</th>\n",
              "      <td>...</td>\n",
              "      <td>...</td>\n",
              "      <td>...</td>\n",
              "      <td>...</td>\n",
              "      <td>...</td>\n",
              "      <td>...</td>\n",
              "      <td>...</td>\n",
              "    </tr>\n",
              "    <tr>\n",
              "      <th>1723</th>\n",
              "      <td>low</td>\n",
              "      <td>low</td>\n",
              "      <td>5more</td>\n",
              "      <td>more</td>\n",
              "      <td>med</td>\n",
              "      <td>med</td>\n",
              "      <td>good</td>\n",
              "    </tr>\n",
              "    <tr>\n",
              "      <th>1724</th>\n",
              "      <td>low</td>\n",
              "      <td>low</td>\n",
              "      <td>5more</td>\n",
              "      <td>more</td>\n",
              "      <td>med</td>\n",
              "      <td>high</td>\n",
              "      <td>vgood</td>\n",
              "    </tr>\n",
              "    <tr>\n",
              "      <th>1725</th>\n",
              "      <td>low</td>\n",
              "      <td>low</td>\n",
              "      <td>5more</td>\n",
              "      <td>more</td>\n",
              "      <td>big</td>\n",
              "      <td>low</td>\n",
              "      <td>unacc</td>\n",
              "    </tr>\n",
              "    <tr>\n",
              "      <th>1726</th>\n",
              "      <td>low</td>\n",
              "      <td>low</td>\n",
              "      <td>5more</td>\n",
              "      <td>more</td>\n",
              "      <td>big</td>\n",
              "      <td>med</td>\n",
              "      <td>good</td>\n",
              "    </tr>\n",
              "    <tr>\n",
              "      <th>1727</th>\n",
              "      <td>low</td>\n",
              "      <td>low</td>\n",
              "      <td>5more</td>\n",
              "      <td>more</td>\n",
              "      <td>big</td>\n",
              "      <td>high</td>\n",
              "      <td>vgood</td>\n",
              "    </tr>\n",
              "  </tbody>\n",
              "</table>\n",
              "<p>1728 rows × 7 columns</p>\n",
              "</div>\n",
              "      <button class=\"colab-df-convert\" onclick=\"convertToInteractive('df-7ef7b65b-9adb-4f5b-af84-bcd0dbf09cce')\"\n",
              "              title=\"Convert this dataframe to an interactive table.\"\n",
              "              style=\"display:none;\">\n",
              "        \n",
              "  <svg xmlns=\"http://www.w3.org/2000/svg\" height=\"24px\"viewBox=\"0 0 24 24\"\n",
              "       width=\"24px\">\n",
              "    <path d=\"M0 0h24v24H0V0z\" fill=\"none\"/>\n",
              "    <path d=\"M18.56 5.44l.94 2.06.94-2.06 2.06-.94-2.06-.94-.94-2.06-.94 2.06-2.06.94zm-11 1L8.5 8.5l.94-2.06 2.06-.94-2.06-.94L8.5 2.5l-.94 2.06-2.06.94zm10 10l.94 2.06.94-2.06 2.06-.94-2.06-.94-.94-2.06-.94 2.06-2.06.94z\"/><path d=\"M17.41 7.96l-1.37-1.37c-.4-.4-.92-.59-1.43-.59-.52 0-1.04.2-1.43.59L10.3 9.45l-7.72 7.72c-.78.78-.78 2.05 0 2.83L4 21.41c.39.39.9.59 1.41.59.51 0 1.02-.2 1.41-.59l7.78-7.78 2.81-2.81c.8-.78.8-2.07 0-2.86zM5.41 20L4 18.59l7.72-7.72 1.47 1.35L5.41 20z\"/>\n",
              "  </svg>\n",
              "      </button>\n",
              "      \n",
              "  <style>\n",
              "    .colab-df-container {\n",
              "      display:flex;\n",
              "      flex-wrap:wrap;\n",
              "      gap: 12px;\n",
              "    }\n",
              "\n",
              "    .colab-df-convert {\n",
              "      background-color: #E8F0FE;\n",
              "      border: none;\n",
              "      border-radius: 50%;\n",
              "      cursor: pointer;\n",
              "      display: none;\n",
              "      fill: #1967D2;\n",
              "      height: 32px;\n",
              "      padding: 0 0 0 0;\n",
              "      width: 32px;\n",
              "    }\n",
              "\n",
              "    .colab-df-convert:hover {\n",
              "      background-color: #E2EBFA;\n",
              "      box-shadow: 0px 1px 2px rgba(60, 64, 67, 0.3), 0px 1px 3px 1px rgba(60, 64, 67, 0.15);\n",
              "      fill: #174EA6;\n",
              "    }\n",
              "\n",
              "    [theme=dark] .colab-df-convert {\n",
              "      background-color: #3B4455;\n",
              "      fill: #D2E3FC;\n",
              "    }\n",
              "\n",
              "    [theme=dark] .colab-df-convert:hover {\n",
              "      background-color: #434B5C;\n",
              "      box-shadow: 0px 1px 3px 1px rgba(0, 0, 0, 0.15);\n",
              "      filter: drop-shadow(0px 1px 2px rgba(0, 0, 0, 0.3));\n",
              "      fill: #FFFFFF;\n",
              "    }\n",
              "  </style>\n",
              "\n",
              "      <script>\n",
              "        const buttonEl =\n",
              "          document.querySelector('#df-7ef7b65b-9adb-4f5b-af84-bcd0dbf09cce button.colab-df-convert');\n",
              "        buttonEl.style.display =\n",
              "          google.colab.kernel.accessAllowed ? 'block' : 'none';\n",
              "\n",
              "        async function convertToInteractive(key) {\n",
              "          const element = document.querySelector('#df-7ef7b65b-9adb-4f5b-af84-bcd0dbf09cce');\n",
              "          const dataTable =\n",
              "            await google.colab.kernel.invokeFunction('convertToInteractive',\n",
              "                                                     [key], {});\n",
              "          if (!dataTable) return;\n",
              "\n",
              "          const docLinkHtml = 'Like what you see? Visit the ' +\n",
              "            '<a target=\"_blank\" href=https://colab.research.google.com/notebooks/data_table.ipynb>data table notebook</a>'\n",
              "            + ' to learn more about interactive tables.';\n",
              "          element.innerHTML = '';\n",
              "          dataTable['output_type'] = 'display_data';\n",
              "          await google.colab.output.renderOutput(dataTable, element);\n",
              "          const docLink = document.createElement('div');\n",
              "          docLink.innerHTML = docLinkHtml;\n",
              "          element.appendChild(docLink);\n",
              "        }\n",
              "      </script>\n",
              "    </div>\n",
              "  </div>\n",
              "  "
            ]
          },
          "metadata": {},
          "execution_count": 6
        }
      ]
    },
    {
      "cell_type": "code",
      "source": [
        "df.head()"
      ],
      "metadata": {
        "id": "GJ3PFd7ELz7e",
        "colab": {
          "base_uri": "https://localhost:8080/",
          "height": 206
        },
        "outputId": "2b96b7a0-daac-4e81-d10e-5a808e369007"
      },
      "execution_count": null,
      "outputs": [
        {
          "output_type": "execute_result",
          "data": {
            "text/plain": [
              "  Buy_price  mcost ndoors nop lug_boot safety decision\n",
              "0     vhigh  vhigh      2   2    small    low    unacc\n",
              "1     vhigh  vhigh      2   2    small    med    unacc\n",
              "2     vhigh  vhigh      2   2    small   high    unacc\n",
              "3     vhigh  vhigh      2   2      med    low    unacc\n",
              "4     vhigh  vhigh      2   2      med    med    unacc"
            ],
            "text/html": [
              "\n",
              "  <div id=\"df-b4f764d7-1650-4624-8fc2-909e349c37b0\">\n",
              "    <div class=\"colab-df-container\">\n",
              "      <div>\n",
              "<style scoped>\n",
              "    .dataframe tbody tr th:only-of-type {\n",
              "        vertical-align: middle;\n",
              "    }\n",
              "\n",
              "    .dataframe tbody tr th {\n",
              "        vertical-align: top;\n",
              "    }\n",
              "\n",
              "    .dataframe thead th {\n",
              "        text-align: right;\n",
              "    }\n",
              "</style>\n",
              "<table border=\"1\" class=\"dataframe\">\n",
              "  <thead>\n",
              "    <tr style=\"text-align: right;\">\n",
              "      <th></th>\n",
              "      <th>Buy_price</th>\n",
              "      <th>mcost</th>\n",
              "      <th>ndoors</th>\n",
              "      <th>nop</th>\n",
              "      <th>lug_boot</th>\n",
              "      <th>safety</th>\n",
              "      <th>decision</th>\n",
              "    </tr>\n",
              "  </thead>\n",
              "  <tbody>\n",
              "    <tr>\n",
              "      <th>0</th>\n",
              "      <td>vhigh</td>\n",
              "      <td>vhigh</td>\n",
              "      <td>2</td>\n",
              "      <td>2</td>\n",
              "      <td>small</td>\n",
              "      <td>low</td>\n",
              "      <td>unacc</td>\n",
              "    </tr>\n",
              "    <tr>\n",
              "      <th>1</th>\n",
              "      <td>vhigh</td>\n",
              "      <td>vhigh</td>\n",
              "      <td>2</td>\n",
              "      <td>2</td>\n",
              "      <td>small</td>\n",
              "      <td>med</td>\n",
              "      <td>unacc</td>\n",
              "    </tr>\n",
              "    <tr>\n",
              "      <th>2</th>\n",
              "      <td>vhigh</td>\n",
              "      <td>vhigh</td>\n",
              "      <td>2</td>\n",
              "      <td>2</td>\n",
              "      <td>small</td>\n",
              "      <td>high</td>\n",
              "      <td>unacc</td>\n",
              "    </tr>\n",
              "    <tr>\n",
              "      <th>3</th>\n",
              "      <td>vhigh</td>\n",
              "      <td>vhigh</td>\n",
              "      <td>2</td>\n",
              "      <td>2</td>\n",
              "      <td>med</td>\n",
              "      <td>low</td>\n",
              "      <td>unacc</td>\n",
              "    </tr>\n",
              "    <tr>\n",
              "      <th>4</th>\n",
              "      <td>vhigh</td>\n",
              "      <td>vhigh</td>\n",
              "      <td>2</td>\n",
              "      <td>2</td>\n",
              "      <td>med</td>\n",
              "      <td>med</td>\n",
              "      <td>unacc</td>\n",
              "    </tr>\n",
              "  </tbody>\n",
              "</table>\n",
              "</div>\n",
              "      <button class=\"colab-df-convert\" onclick=\"convertToInteractive('df-b4f764d7-1650-4624-8fc2-909e349c37b0')\"\n",
              "              title=\"Convert this dataframe to an interactive table.\"\n",
              "              style=\"display:none;\">\n",
              "        \n",
              "  <svg xmlns=\"http://www.w3.org/2000/svg\" height=\"24px\"viewBox=\"0 0 24 24\"\n",
              "       width=\"24px\">\n",
              "    <path d=\"M0 0h24v24H0V0z\" fill=\"none\"/>\n",
              "    <path d=\"M18.56 5.44l.94 2.06.94-2.06 2.06-.94-2.06-.94-.94-2.06-.94 2.06-2.06.94zm-11 1L8.5 8.5l.94-2.06 2.06-.94-2.06-.94L8.5 2.5l-.94 2.06-2.06.94zm10 10l.94 2.06.94-2.06 2.06-.94-2.06-.94-.94-2.06-.94 2.06-2.06.94z\"/><path d=\"M17.41 7.96l-1.37-1.37c-.4-.4-.92-.59-1.43-.59-.52 0-1.04.2-1.43.59L10.3 9.45l-7.72 7.72c-.78.78-.78 2.05 0 2.83L4 21.41c.39.39.9.59 1.41.59.51 0 1.02-.2 1.41-.59l7.78-7.78 2.81-2.81c.8-.78.8-2.07 0-2.86zM5.41 20L4 18.59l7.72-7.72 1.47 1.35L5.41 20z\"/>\n",
              "  </svg>\n",
              "      </button>\n",
              "      \n",
              "  <style>\n",
              "    .colab-df-container {\n",
              "      display:flex;\n",
              "      flex-wrap:wrap;\n",
              "      gap: 12px;\n",
              "    }\n",
              "\n",
              "    .colab-df-convert {\n",
              "      background-color: #E8F0FE;\n",
              "      border: none;\n",
              "      border-radius: 50%;\n",
              "      cursor: pointer;\n",
              "      display: none;\n",
              "      fill: #1967D2;\n",
              "      height: 32px;\n",
              "      padding: 0 0 0 0;\n",
              "      width: 32px;\n",
              "    }\n",
              "\n",
              "    .colab-df-convert:hover {\n",
              "      background-color: #E2EBFA;\n",
              "      box-shadow: 0px 1px 2px rgba(60, 64, 67, 0.3), 0px 1px 3px 1px rgba(60, 64, 67, 0.15);\n",
              "      fill: #174EA6;\n",
              "    }\n",
              "\n",
              "    [theme=dark] .colab-df-convert {\n",
              "      background-color: #3B4455;\n",
              "      fill: #D2E3FC;\n",
              "    }\n",
              "\n",
              "    [theme=dark] .colab-df-convert:hover {\n",
              "      background-color: #434B5C;\n",
              "      box-shadow: 0px 1px 3px 1px rgba(0, 0, 0, 0.15);\n",
              "      filter: drop-shadow(0px 1px 2px rgba(0, 0, 0, 0.3));\n",
              "      fill: #FFFFFF;\n",
              "    }\n",
              "  </style>\n",
              "\n",
              "      <script>\n",
              "        const buttonEl =\n",
              "          document.querySelector('#df-b4f764d7-1650-4624-8fc2-909e349c37b0 button.colab-df-convert');\n",
              "        buttonEl.style.display =\n",
              "          google.colab.kernel.accessAllowed ? 'block' : 'none';\n",
              "\n",
              "        async function convertToInteractive(key) {\n",
              "          const element = document.querySelector('#df-b4f764d7-1650-4624-8fc2-909e349c37b0');\n",
              "          const dataTable =\n",
              "            await google.colab.kernel.invokeFunction('convertToInteractive',\n",
              "                                                     [key], {});\n",
              "          if (!dataTable) return;\n",
              "\n",
              "          const docLinkHtml = 'Like what you see? Visit the ' +\n",
              "            '<a target=\"_blank\" href=https://colab.research.google.com/notebooks/data_table.ipynb>data table notebook</a>'\n",
              "            + ' to learn more about interactive tables.';\n",
              "          element.innerHTML = '';\n",
              "          dataTable['output_type'] = 'display_data';\n",
              "          await google.colab.output.renderOutput(dataTable, element);\n",
              "          const docLink = document.createElement('div');\n",
              "          docLink.innerHTML = docLinkHtml;\n",
              "          element.appendChild(docLink);\n",
              "        }\n",
              "      </script>\n",
              "    </div>\n",
              "  </div>\n",
              "  "
            ]
          },
          "metadata": {},
          "execution_count": 7
        }
      ]
    },
    {
      "cell_type": "code",
      "source": [
        "df.head()\n",
        "\n",
        "X_list=[\"Buy_price\",\"mcost\",\"ndoors\",\"nop\",\"lug_boot\",\"safety\"]\n",
        "\n",
        "X=df[X_list]\n",
        "y=df.decision\n",
        "y.value_counts()"
      ],
      "metadata": {
        "id": "40IIaI9FlN3l",
        "colab": {
          "base_uri": "https://localhost:8080/"
        },
        "outputId": "eebd0a83-816f-42ca-f2a4-1441f2e41713"
      },
      "execution_count": null,
      "outputs": [
        {
          "output_type": "execute_result",
          "data": {
            "text/plain": [
              "unacc    1210\n",
              "acc       384\n",
              "good       69\n",
              "vgood      65\n",
              "Name: decision, dtype: int64"
            ]
          },
          "metadata": {},
          "execution_count": 8
        }
      ]
    },
    {
      "cell_type": "code",
      "source": [],
      "metadata": {
        "id": "hhu9zA1BNeb6"
      },
      "execution_count": null,
      "outputs": []
    },
    {
      "cell_type": "markdown",
      "source": [
        "# New Section"
      ],
      "metadata": {
        "id": "PUTtq95yPl_J"
      }
    },
    {
      "cell_type": "code",
      "source": [
        "df.shape #tells the number of rows and columns of a given DataFrame."
      ],
      "metadata": {
        "id": "4YF5DNQrlPID",
        "colab": {
          "base_uri": "https://localhost:8080/"
        },
        "outputId": "ede188b1-e75f-4601-e8d3-1621130945ec"
      },
      "execution_count": null,
      "outputs": [
        {
          "output_type": "execute_result",
          "data": {
            "text/plain": [
              "(1728, 7)"
            ]
          },
          "metadata": {},
          "execution_count": 9
        }
      ]
    },
    {
      "cell_type": "code",
      "source": [
        "X.Buy_price.unique()"
      ],
      "metadata": {
        "id": "zHtSaWRylTpO",
        "colab": {
          "base_uri": "https://localhost:8080/"
        },
        "outputId": "c8f823f7-4bd2-45e3-8a1a-e3c41183286a"
      },
      "execution_count": null,
      "outputs": [
        {
          "output_type": "execute_result",
          "data": {
            "text/plain": [
              "array(['vhigh', 'high', 'med', 'low'], dtype=object)"
            ]
          },
          "metadata": {},
          "execution_count": 10
        }
      ]
    },
    {
      "cell_type": "code",
      "source": [
        "X.mcost.unique()"
      ],
      "metadata": {
        "id": "8K95XsN-lV4U",
        "colab": {
          "base_uri": "https://localhost:8080/"
        },
        "outputId": "856580bf-466c-48eb-b653-bacd23b4634e"
      },
      "execution_count": null,
      "outputs": [
        {
          "output_type": "execute_result",
          "data": {
            "text/plain": [
              "array(['vhigh', 'high', 'med', 'low'], dtype=object)"
            ]
          },
          "metadata": {},
          "execution_count": 11
        }
      ]
    },
    {
      "cell_type": "code",
      "source": [
        "X.ndoors.unique()"
      ],
      "metadata": {
        "id": "PBl7yveilYfy",
        "colab": {
          "base_uri": "https://localhost:8080/"
        },
        "outputId": "1a298233-34d5-42df-e386-4a7d0d98cccd"
      },
      "execution_count": null,
      "outputs": [
        {
          "output_type": "execute_result",
          "data": {
            "text/plain": [
              "array(['2', '3', '4', '5more'], dtype=object)"
            ]
          },
          "metadata": {},
          "execution_count": 12
        }
      ]
    },
    {
      "cell_type": "code",
      "source": [
        "X.nop.unique()"
      ],
      "metadata": {
        "id": "riJlTfJElb8b",
        "colab": {
          "base_uri": "https://localhost:8080/"
        },
        "outputId": "9bae1dd8-ac92-4553-b75f-2a1936ae0499"
      },
      "execution_count": null,
      "outputs": [
        {
          "output_type": "execute_result",
          "data": {
            "text/plain": [
              "array(['2', '4', 'more'], dtype=object)"
            ]
          },
          "metadata": {},
          "execution_count": 13
        }
      ]
    },
    {
      "cell_type": "code",
      "source": [
        "X.lug_boot.unique()"
      ],
      "metadata": {
        "id": "asOPGouxlc-v",
        "colab": {
          "base_uri": "https://localhost:8080/"
        },
        "outputId": "5a20fdf7-dde7-49af-b85d-177c1ed17bcc"
      },
      "execution_count": null,
      "outputs": [
        {
          "output_type": "execute_result",
          "data": {
            "text/plain": [
              "array(['small', 'med', 'big'], dtype=object)"
            ]
          },
          "metadata": {},
          "execution_count": 14
        }
      ]
    },
    {
      "cell_type": "code",
      "source": [
        "X.safety.unique()"
      ],
      "metadata": {
        "id": "ripoGJ6LlgB2",
        "colab": {
          "base_uri": "https://localhost:8080/"
        },
        "outputId": "9b9b0668-c944-436a-847a-ed13112eb12d"
      },
      "execution_count": null,
      "outputs": [
        {
          "output_type": "execute_result",
          "data": {
            "text/plain": [
              "array(['low', 'med', 'high'], dtype=object)"
            ]
          },
          "metadata": {},
          "execution_count": 15
        }
      ]
    },
    {
      "cell_type": "code",
      "source": [
        "y.unique()"
      ],
      "metadata": {
        "id": "AWmzwD8alj5N",
        "colab": {
          "base_uri": "https://localhost:8080/"
        },
        "outputId": "604899aa-8121-470b-a966-d7c7132786c3"
      },
      "execution_count": null,
      "outputs": [
        {
          "output_type": "execute_result",
          "data": {
            "text/plain": [
              "array(['unacc', 'acc', 'vgood', 'good'], dtype=object)"
            ]
          },
          "metadata": {},
          "execution_count": 16
        }
      ]
    },
    {
      "cell_type": "code",
      "source": [
        "#defining function for bar graph\n",
        "def grp_brplt(col1):\n",
        "\n",
        "    df1 = df.groupby(['decision',col1]).size().to_frame('total').reset_index()\n",
        "\n",
        "    plt.figure(figsize=(10,8))\n",
        "    ax=plt.subplot()\n",
        "    ax = sns.barplot(data=df1, x=df1[col1], y=df1[\"total\"], hue=df1[\"decision\"])\n",
        "\n",
        "    for p in ax.patches:\n",
        "        ax.annotate(format(p.get_height(), '.1f'),\n",
        "                       (p.get_x() + p.get_width() / 2., p.get_height()),\n",
        "                       ha = 'center', va = 'center',\n",
        "                       xytext = (0, 9),\n",
        "                       textcoords = 'offset points')\n",
        "\n",
        "    ax.set_title('Distribution of ' +col1+ ' per target variable', fontsize=20)\n",
        "    ax.legend(loc='center right', bbox_to_anchor=(1.25, 0.5), ncol=1, title='decision')\n",
        "    return ax"
      ],
      "metadata": {
        "id": "yJTR1OOvlpmA"
      },
      "execution_count": null,
      "outputs": []
    },
    {
      "cell_type": "code",
      "source": [
        "grp_brplt(\"Buy_price\")#buying price"
      ],
      "metadata": {
        "id": "k69gkvfIlsWb",
        "colab": {
          "base_uri": "https://localhost:8080/",
          "height": 536
        },
        "outputId": "e7fa985e-2c9b-492f-e788-581becee9f1d"
      },
      "execution_count": null,
      "outputs": [
        {
          "output_type": "execute_result",
          "data": {
            "text/plain": [
              "<matplotlib.axes._subplots.AxesSubplot at 0x7f12297a0810>"
            ]
          },
          "metadata": {},
          "execution_count": 18
        },
        {
          "output_type": "display_data",
          "data": {
            "text/plain": [
              "<Figure size 720x576 with 1 Axes>"
            ],
            "image/png": "[encoded data removed]"
          },
          "metadata": {
            "needs_background": "light"
          }
        }
      ]
    },
    {
      "cell_type": "code",
      "source": [
        "grp_brplt(\"mcost\")#maintenance cost"
      ],
      "metadata": {
        "id": "C9_bZQshlv5v",
        "colab": {
          "base_uri": "https://localhost:8080/",
          "height": 535
        },
        "outputId": "d0b07d73-a997-43b0-e238-e2e229f349df"
      },
      "execution_count": null,
      "outputs": [
        {
          "output_type": "execute_result",
          "data": {
            "text/plain": [
              "<matplotlib.axes._subplots.AxesSubplot at 0x7f12296b1450>"
            ]
          },
          "metadata": {},
          "execution_count": 19
        },
        {
          "output_type": "display_data",
          "data": {
            "text/plain": [
              "<Figure size 720x576 with 1 Axes>"
            ],
            "image/png": "[encoded data removed]"
          },
          "metadata": {
            "needs_background": "light"
          }
        }
      ]
    },
    {
      "cell_type": "code",
      "source": [
        "grp_brplt(\"ndoors\")#number of doors"
      ],
      "metadata": {
        "id": "vnf4-JZ1lzbt",
        "colab": {
          "base_uri": "https://localhost:8080/",
          "height": 535
        },
        "outputId": "08552488-adf7-43dc-805b-11ebed61c002"
      },
      "execution_count": null,
      "outputs": [
        {
          "output_type": "execute_result",
          "data": {
            "text/plain": [
              "<matplotlib.axes._subplots.AxesSubplot at 0x7f12290fb410>"
            ]
          },
          "metadata": {},
          "execution_count": 20
        },
        {
          "output_type": "display_data",
          "data": {
            "text/plain": [
              "<Figure size 720x576 with 1 Axes>"
            ],
            "image/png": "[encoded data removed]"
          },
          "metadata": {
            "needs_background": "light"
          }
        }
      ]
    },
    {
      "cell_type": "code",
      "source": [
        "grp_brplt(\"nop\")#number of people"
      ],
      "metadata": {
        "id": "cIA51p-Bl2wW",
        "colab": {
          "base_uri": "https://localhost:8080/",
          "height": 535
        },
        "outputId": "795915d8-09b5-45c6-8e60-363a47bfc570"
      },
      "execution_count": null,
      "outputs": [
        {
          "output_type": "execute_result",
          "data": {
            "text/plain": [
              "<matplotlib.axes._subplots.AxesSubplot at 0x7f122908e2d0>"
            ]
          },
          "metadata": {},
          "execution_count": 21
        },
        {
          "output_type": "display_data",
          "data": {
            "text/plain": [
              "<Figure size 720x576 with 1 Axes>"
            ],
            "image/png": "[encoded data removed]"
          },
          "metadata": {
            "needs_background": "light"
          }
        }
      ]
    },
    {
      "cell_type": "code",
      "source": [
        "grp_brplt(\"lug_boot\")#luggage boot space"
      ],
      "metadata": {
        "id": "Jefk8eYNl3-z",
        "colab": {
          "base_uri": "https://localhost:8080/",
          "height": 536
        },
        "outputId": "335d1465-cf7d-4886-ee1a-d6866c94a3fa"
      },
      "execution_count": null,
      "outputs": [
        {
          "output_type": "execute_result",
          "data": {
            "text/plain": [
              "<matplotlib.axes._subplots.AxesSubplot at 0x7f1228fe2d50>"
            ]
          },
          "metadata": {},
          "execution_count": 22
        },
        {
          "output_type": "display_data",
          "data": {
            "text/plain": [
              "<Figure size 720x576 with 1 Axes>"
            ],
            "image/png": "[encoded data removed]"
          },
          "metadata": {
            "needs_background": "light"
          }
        }
      ]
    },
    {
      "cell_type": "code",
      "source": [
        "grp_brplt(\"safety\")#car safety"
      ],
      "metadata": {
        "id": "c9oWVfHtl-dz",
        "colab": {
          "base_uri": "https://localhost:8080/",
          "height": 535
        },
        "outputId": "7afe47c7-8147-48f5-b6e9-52bb33cce929"
      },
      "execution_count": null,
      "outputs": [
        {
          "output_type": "execute_result",
          "data": {
            "text/plain": [
              "<matplotlib.axes._subplots.AxesSubplot at 0x7f1228e33690>"
            ]
          },
          "metadata": {},
          "execution_count": 23
        },
        {
          "output_type": "display_data",
          "data": {
            "text/plain": [
              "<Figure size 720x576 with 1 Axes>"
            ],
            "image/png": "[encoded data removed]"
          },
          "metadata": {
            "needs_background": "light"
          }
        }
      ]
    },
    {
      "cell_type": "code",
      "source": [
        "!pip install category_encoders"
      ],
      "metadata": {
        "id": "Wm-Uj--g9qaM",
        "colab": {
          "base_uri": "https://localhost:8080/"
        },
        "outputId": "2a5d23d4-5d22-4829-ba52-6c9ab172ad45"
      },
      "execution_count": null,
      "outputs": [
        {
          "output_type": "stream",
          "name": "stdout",
          "text": [
            "Looking in indexes: https://pypi.org/simple, https://us-python.pkg.dev/colab-wheels/public/simple/\n",
            "Collecting category_encoders\n",
            "  Downloading category_encoders-2.5.0-py2.py3-none-any.whl (69 kB)\n",
            "\u001b[K     |████████████████████████████████| 69 kB 5.3 MB/s \n",
            "\u001b[?25hRequirement already satisfied: statsmodels>=0.9.0 in /usr/local/lib/python3.7/dist-packages (from category_encoders) (0.12.2)\n",
            "Requirement already satisfied: pandas>=1.0.5 in /usr/local/lib/python3.7/dist-packages (from category_encoders) (1.3.5)\n",
            "Requirement already satisfied: scipy>=1.0.0 in /usr/local/lib/python3.7/dist-packages (from category_encoders) (1.7.3)\n",
            "Requirement already satisfied: numpy>=1.14.0 in /usr/local/lib/python3.7/dist-packages (from category_encoders) (1.21.6)\n",
            "Requirement already satisfied: scikit-learn>=0.20.0 in /usr/local/lib/python3.7/dist-packages (from category_encoders) (1.0.2)\n",
            "Requirement already satisfied: patsy>=0.5.1 in /usr/local/lib/python3.7/dist-packages (from category_encoders) (0.5.2)\n",
            "Requirement already satisfied: pytz>=2017.3 in /usr/local/lib/python3.7/dist-packages (from pandas>=1.0.5->category_encoders) (2022.2.1)\n",
            "Requirement already satisfied: python-dateutil>=2.7.3 in /usr/local/lib/python3.7/dist-packages (from pandas>=1.0.5->category_encoders) (2.8.2)\n",
            "Requirement already satisfied: six in /usr/local/lib/python3.7/dist-packages (from patsy>=0.5.1->category_encoders) (1.15.0)\n",
            "Requirement already satisfied: threadpoolctl>=2.0.0 in /usr/local/lib/python3.7/dist-packages (from scikit-learn>=0.20.0->category_encoders) (3.1.0)\n",
            "Requirement already satisfied: joblib>=0.11 in /usr/local/lib/python3.7/dist-packages (from scikit-learn>=0.20.0->category_encoders) (1.1.0)\n",
            "Installing collected packages: category-encoders\n",
            "Successfully installed category-encoders-2.5.0\n"
          ]
        }
      ]
    },
    {
      "cell_type": "code",
      "source": [
        "# importing necessary package for encoding our categorial features\n",
        "import category_encoders as ce\n",
        "\n",
        "encoder_X = ce.OrdinalEncoder(cols=[\"Buy_price\",\"mcost\",\"ndoors\",\"nop\",\"lug_boot\",\"safety\"])\n",
        "X= encoder_X.fit_transform(X)\n",
        "\n",
        "encoder_Y = ce.OrdinalEncoder()\n",
        "y=np.ravel(encoder_Y.fit_transform(y))"
      ],
      "metadata": {
        "id": "rxibmA8omBLV"
      },
      "execution_count": null,
      "outputs": []
    },
    {
      "cell_type": "code",
      "source": [
        "from sklearn.model_selection import train_test_split,GridSearchCV\n",
        "X_train,X_test,y_train,y_test = train_test_split(X,y,test_size=0.3,random_state=1)"
      ],
      "metadata": {
        "id": "z9grbQcVmE0f"
      },
      "execution_count": null,
      "outputs": []
    },
    {
      "cell_type": "code",
      "source": [
        "from sklearn import tree,svm,naive_bayes,neighbors,ensemble\n",
        "from sklearn.metrics import confusion_matrix,accuracy_score,classification_report"
      ],
      "metadata": {
        "id": "MmH35Q_jmIu4"
      },
      "execution_count": null,
      "outputs": []
    },
    {
      "cell_type": "code",
      "source": [
        "cl1 = naive_bayes.BernoulliNB()\n",
        "cl2 = naive_bayes.GaussianNB()"
      ],
      "metadata": {
        "id": "ApJO3EVWmNcU"
      },
      "execution_count": null,
      "outputs": []
    },
    {
      "cell_type": "code",
      "source": [
        "#decision tree\n",
        "\n",
        "from sklearn.model_selection import GridSearchCV\n",
        "param_grid = {\n",
        "    'criterion': ['gini', 'entropy'],\n",
        "    'max_depth': [3, 6, 9, 12],\n",
        "    'max_features': [2, 3],\n",
        "    'min_samples_leaf': [2, 3, 4, 5]\n",
        "}\n",
        "dt_gs = GridSearchCV(tree.DecisionTreeClassifier(), param_grid = param_grid)\n",
        "dt_gs.fit(X_train, y_train)\n",
        "print(\"####### DECISION TREE #######\")\n",
        "print(dt_gs.best_params_)\n",
        "\n",
        "#output\n",
        "####### DECISION TREE #######\n",
        "#{'criterion': 'entropy', 'max_depth': 12, 'max_features': 3, 'min_samples_leaf': 2}\n",
        "\n",
        "# random forest\n",
        "\n",
        "# Create the parameter grid based on the results of random search\n",
        "param_grid = {\n",
        "    'bootstrap': [True],\n",
        "    'max_depth': [80, 90, 100, 110],\n",
        "    'max_features': [2, 3],\n",
        "    'min_samples_leaf': [3, 4, 5],\n",
        "    'min_samples_split': [8, 10, 12],\n",
        "    'n_estimators': [100, 200, 300, 1000]\n",
        "}\n",
        "rf_gs = GridSearchCV(ensemble.RandomForestClassifier(), param_grid = param_grid,\n",
        "                          cv = 3, n_jobs = -1, verbose = 2)\n",
        "rf_gs.fit(X_train, y_train)\n",
        "print(\" ####### RANDOM FOREST #######\")\n",
        "print(rf_gs.best_params_)\n",
        "\n",
        "# output\n",
        " ####### RANDOM FOREST #######\n",
        "# {'bootstrap': True, 'max_depth': 80, 'max_features': 3, 'min_samples_leaf': 3, 'min_samples_split': 12, 'n_estimators': 100}\n",
        "\n",
        "# support vector machines\n",
        "\n",
        "param_grid2 = {'C': [0.1, 1, 10, 100, 1000],\n",
        "              'gamma': [1, 0.1, 0.01, 0.001, 0.0001],\n",
        "              'kernel': ['rbf','linear'],\n",
        "              'decision_function_shape':['ovo','ovr']}\n",
        "svc_gs = GridSearchCV(svm.SVC(), param_grid2, refit = True, verbose = 3)\n",
        "svc_gs.fit(X_train, y_train)\n",
        "print(\" ####### SVM #######\")\n",
        "print(svc_gs.best_params_)\n",
        "\n",
        "#output\n",
        "####### SVM #######\n",
        "#{'C': 100, 'decision_function_shape': 'ovo', 'gamma': 0.1, 'kernel': 'rbf'}\n",
        "\n",
        "# knn\n",
        "\n",
        "k_range = list(range(1, 31))\n",
        "print(k_range)\n",
        "param_grid = dict(n_neighbors=k_range)\n",
        "print(param_grid)\n",
        "knn_gs = GridSearchCV(estimator=neighbors.KNeighborsClassifier(),param_grid=param_grid,cv=5,return_train_score=True) # Turn on cv train scores\n",
        "knn_gs.fit(X_train, y_train)\n",
        "print(\"####### KNN ######\")\n",
        "print(knn_gs.best_params_)\n",
        "\n",
        "#output\n",
        "# 6 neighbours"
      ],
      "metadata": {
        "id": "nZLuHTtEmUsp",
        "colab": {
          "base_uri": "https://localhost:8080/"
        },
        "outputId": "85c09279-173e-42cd-95c1-5d5b05c86fd9"
      },
      "execution_count": null,
      "outputs": [
        {
          "output_type": "stream",
          "name": "stdout",
          "text": [
            "####### DECISION TREE #######\n",
            "{'criterion': 'entropy', 'max_depth': 12, 'max_features': 3, 'min_samples_leaf': 2}\n",
            "Fitting 3 folds for each of 288 candidates, totalling 864 fits\n",
            " ####### RANDOM FOREST #######\n",
            "{'bootstrap': True, 'max_depth': 90, 'max_features': 3, 'min_samples_leaf': 3, 'min_samples_split': 8, 'n_estimators': 300}\n",
            "Fitting 5 folds for each of 100 candidates, totalling 500 fits\n",
            "[CV 1/5] END C=0.1, decision_function_shape=ovo, gamma=1, kernel=rbf;, score=0.698 total time=   0.1s\n",
            "[CV 2/5] END C=0.1, decision_function_shape=ovo, gamma=1, kernel=rbf;, score=0.698 total time=   0.1s\n",
            "[CV 3/5] END C=0.1, decision_function_shape=ovo, gamma=1, kernel=rbf;, score=0.694 total time=   0.1s\n",
            "[CV 4/5] END C=0.1, decision_function_shape=ovo, gamma=1, kernel=rbf;, score=0.694 total time=   0.1s\n",
            "[CV 5/5] END C=0.1, decision_function_shape=ovo, gamma=1, kernel=rbf;, score=0.697 total time=   0.1s\n",
            "[CV 1/5] END C=0.1, decision_function_shape=ovo, gamma=1, kernel=linear;, score=0.826 total time=   0.0s\n",
            "[CV 2/5] END C=0.1, decision_function_shape=ovo, gamma=1, kernel=linear;, score=0.826 total time=   0.0s\n",
            "[CV 3/5] END C=0.1, decision_function_shape=ovo, gamma=1, kernel=linear;, score=0.831 total time=   0.0s\n",
            "[CV 4/5] END C=0.1, decision_function_shape=ovo, gamma=1, kernel=linear;, score=0.814 total time=   0.0s\n",
            "[CV 5/5] END C=0.1, decision_function_shape=ovo, gamma=1, kernel=linear;, score=0.842 total time=   0.0s\n",
            "[CV 1/5] END C=0.1, decision_function_shape=ovo, gamma=0.1, kernel=rbf;, score=0.777 total time=   0.0s\n",
            "[CV 2/5] END C=0.1, decision_function_shape=ovo, gamma=0.1, kernel=rbf;, score=0.785 total time=   0.0s\n",
            "[CV 3/5] END C=0.1, decision_function_shape=ovo, gamma=0.1, kernel=rbf;, score=0.773 total time=   0.0s\n",
            "[CV 4/5] END C=0.1, decision_function_shape=ovo, gamma=0.1, kernel=rbf;, score=0.773 total time=   0.0s\n",
            "[CV 5/5] END C=0.1, decision_function_shape=ovo, gamma=0.1, kernel=rbf;, score=0.784 total time=   0.0s\n",
            "[CV 1/5] END C=0.1, decision_function_shape=ovo, gamma=0.1, kernel=linear;, score=0.826 total time=   0.0s\n",
            "[CV 2/5] END C=0.1, decision_function_shape=ovo, gamma=0.1, kernel=linear;, score=0.826 total time=   0.0s\n",
            "[CV 3/5] END C=0.1, decision_function_shape=ovo, gamma=0.1, kernel=linear;, score=0.831 total time=   0.0s\n",
            "[CV 4/5] END C=0.1, decision_function_shape=ovo, gamma=0.1, kernel=linear;, score=0.814 total time=   0.0s\n",
            "[CV 5/5] END C=0.1, decision_function_shape=ovo, gamma=0.1, kernel=linear;, score=0.842 total time=   0.0s\n",
            "[CV 1/5] END C=0.1, decision_function_shape=ovo, gamma=0.01, kernel=rbf;, score=0.698 total time=   0.0s\n",
            "[CV 2/5] END C=0.1, decision_function_shape=ovo, gamma=0.01, kernel=rbf;, score=0.698 total time=   0.0s\n",
            "[CV 3/5] END C=0.1, decision_function_shape=ovo, gamma=0.01, kernel=rbf;, score=0.694 total time=   0.0s\n",
            "[CV 4/5] END C=0.1, decision_function_shape=ovo, gamma=0.01, kernel=rbf;, score=0.694 total time=   0.0s\n",
            "[CV 5/5] END C=0.1, decision_function_shape=ovo, gamma=0.01, kernel=rbf;, score=0.697 total time=   0.0s\n",
            "[CV 1/5] END C=0.1, decision_function_shape=ovo, gamma=0.01, kernel=linear;, score=0.826 total time=   0.0s\n",
            "[CV 2/5] END C=0.1, decision_function_shape=ovo, gamma=0.01, kernel=linear;, score=0.826 total time=   0.0s\n",
            "[CV 3/5] END C=0.1, decision_function_shape=ovo, gamma=0.01, kernel=linear;, score=0.831 total time=   0.0s\n",
            "[CV 4/5] END C=0.1, decision_function_shape=ovo, gamma=0.01, kernel=linear;, score=0.814 total time=   0.0s\n",
            "[CV 5/5] END C=0.1, decision_function_shape=ovo, gamma=0.01, kernel=linear;, score=0.842 total time=   0.0s\n",
            "[CV 1/5] END C=0.1, decision_function_shape=ovo, gamma=0.001, kernel=rbf;, score=0.698 total time=   0.0s\n",
            "[CV 2/5] END C=0.1, decision_function_shape=ovo, gamma=0.001, kernel=rbf;, score=0.698 total time=   0.0s\n",
            "[CV 3/5] END C=0.1, decision_function_shape=ovo, gamma=0.001, kernel=rbf;, score=0.694 total time=   0.0s\n",
            "[CV 4/5] END C=0.1, decision_function_shape=ovo, gamma=0.001, kernel=rbf;, score=0.694 total time=   0.0s\n",
            "[CV 5/5] END C=0.1, decision_function_shape=ovo, gamma=0.001, kernel=rbf;, score=0.697 total time=   0.0s\n",
            "[CV 1/5] END C=0.1, decision_function_shape=ovo, gamma=0.001, kernel=linear;, score=0.826 total time=   0.0s\n",
            "[CV 2/5] END C=0.1, decision_function_shape=ovo, gamma=0.001, kernel=linear;, score=0.826 total time=   0.0s\n",
            "[CV 3/5] END C=0.1, decision_function_shape=ovo, gamma=0.001, kernel=linear;, score=0.831 total time=   0.0s\n",
            "[CV 4/5] END C=0.1, decision_function_shape=ovo, gamma=0.001, kernel=linear;, score=0.814 total time=   0.0s\n",
            "[CV 5/5] END C=0.1, decision_function_shape=ovo, gamma=0.001, kernel=linear;, score=0.842 total time=   0.0s\n",
            "[CV 1/5] END C=0.1, decision_function_shape=ovo, gamma=0.0001, kernel=rbf;, score=0.698 total time=   0.0s\n",
            "[CV 2/5] END C=0.1, decision_function_shape=ovo, gamma=0.0001, kernel=rbf;, score=0.698 total time=   0.0s\n",
            "[CV 3/5] END C=0.1, decision_function_shape=ovo, gamma=0.0001, kernel=rbf;, score=0.694 total time=   0.0s\n",
            "[CV 4/5] END C=0.1, decision_function_shape=ovo, gamma=0.0001, kernel=rbf;, score=0.694 total time=   0.0s\n",
            "[CV 5/5] END C=0.1, decision_function_shape=ovo, gamma=0.0001, kernel=rbf;, score=0.697 total time=   0.0s\n",
            "[CV 1/5] END C=0.1, decision_function_shape=ovo, gamma=0.0001, kernel=linear;, score=0.826 total time=   0.0s\n",
            "[CV 2/5] END C=0.1, decision_function_shape=ovo, gamma=0.0001, kernel=linear;, score=0.826 total time=   0.0s\n",
            "[CV 3/5] END C=0.1, decision_function_shape=ovo, gamma=0.0001, kernel=linear;, score=0.831 total time=   0.0s\n",
            "[CV 4/5] END C=0.1, decision_function_shape=ovo, gamma=0.0001, kernel=linear;, score=0.814 total time=   0.0s\n",
            "[CV 5/5] END C=0.1, decision_function_shape=ovo, gamma=0.0001, kernel=linear;, score=0.842 total time=   0.0s\n",
            "[CV 1/5] END C=0.1, decision_function_shape=ovr, gamma=1, kernel=rbf;, score=0.698 total time=   0.1s\n",
            "[CV 2/5] END C=0.1, decision_function_shape=ovr, gamma=1, kernel=rbf;, score=0.698 total time=   0.1s\n",
            "[CV 3/5] END C=0.1, decision_function_shape=ovr, gamma=1, kernel=rbf;, score=0.694 total time=   0.1s\n",
            "[CV 4/5] END C=0.1, decision_function_shape=ovr, gamma=1, kernel=rbf;, score=0.694 total time=   0.1s\n",
            "[CV 5/5] END C=0.1, decision_function_shape=ovr, gamma=1, kernel=rbf;, score=0.697 total time=   0.1s\n",
            "[CV 1/5] END C=0.1, decision_function_shape=ovr, gamma=1, kernel=linear;, score=0.826 total time=   0.0s\n",
            "[CV 2/5] END C=0.1, decision_function_shape=ovr, gamma=1, kernel=linear;, score=0.826 total time=   0.0s\n",
            "[CV 3/5] END C=0.1, decision_function_shape=ovr, gamma=1, kernel=linear;, score=0.831 total time=   0.0s\n",
            "[CV 4/5] END C=0.1, decision_function_shape=ovr, gamma=1, kernel=linear;, score=0.814 total time=   0.0s\n",
            "[CV 5/5] END C=0.1, decision_function_shape=ovr, gamma=1, kernel=linear;, score=0.842 total time=   0.0s\n",
            "[CV 1/5] END C=0.1, decision_function_shape=ovr, gamma=0.1, kernel=rbf;, score=0.777 total time=   0.0s\n",
            "[CV 2/5] END C=0.1, decision_function_shape=ovr, gamma=0.1, kernel=rbf;, score=0.785 total time=   0.0s\n",
            "[CV 3/5] END C=0.1, decision_function_shape=ovr, gamma=0.1, kernel=rbf;, score=0.773 total time=   0.0s\n",
            "[CV 4/5] END C=0.1, decision_function_shape=ovr, gamma=0.1, kernel=rbf;, score=0.773 total time=   0.0s\n",
            "[CV 5/5] END C=0.1, decision_function_shape=ovr, gamma=0.1, kernel=rbf;, score=0.784 total time=   0.0s\n",
            "[CV 1/5] END C=0.1, decision_function_shape=ovr, gamma=0.1, kernel=linear;, score=0.826 total time=   0.0s\n",
            "[CV 2/5] END C=0.1, decision_function_shape=ovr, gamma=0.1, kernel=linear;, score=0.826 total time=   0.0s\n",
            "[CV 3/5] END C=0.1, decision_function_shape=ovr, gamma=0.1, kernel=linear;, score=0.831 total time=   0.0s\n",
            "[CV 4/5] END C=0.1, decision_function_shape=ovr, gamma=0.1, kernel=linear;, score=0.814 total time=   0.0s\n",
            "[CV 5/5] END C=0.1, decision_function_shape=ovr, gamma=0.1, kernel=linear;, score=0.842 total time=   0.0s\n",
            "[CV 1/5] END C=0.1, decision_function_shape=ovr, gamma=0.01, kernel=rbf;, score=0.698 total time=   0.0s\n",
            "[CV 2/5] END C=0.1, decision_function_shape=ovr, gamma=0.01, kernel=rbf;, score=0.698 total time=   0.0s\n",
            "[CV 3/5] END C=0.1, decision_function_shape=ovr, gamma=0.01, kernel=rbf;, score=0.694 total time=   0.0s\n",
            "[CV 4/5] END C=0.1, decision_function_shape=ovr, gamma=0.01, kernel=rbf;, score=0.694 total time=   0.0s\n",
            "[CV 5/5] END C=0.1, decision_function_shape=ovr, gamma=0.01, kernel=rbf;, score=0.697 total time=   0.0s\n",
            "[CV 1/5] END C=0.1, decision_function_shape=ovr, gamma=0.01, kernel=linear;, score=0.826 total time=   0.0s\n",
            "[CV 2/5] END C=0.1, decision_function_shape=ovr, gamma=0.01, kernel=linear;, score=0.826 total time=   0.0s\n",
            "[CV 3/5] END C=0.1, decision_function_shape=ovr, gamma=0.01, kernel=linear;, score=0.831 total time=   0.0s\n",
            "[CV 4/5] END C=0.1, decision_function_shape=ovr, gamma=0.01, kernel=linear;, score=0.814 total time=   0.0s\n",
            "[CV 5/5] END C=0.1, decision_function_shape=ovr, gamma=0.01, kernel=linear;, score=0.842 total time=   0.0s\n",
            "[CV 1/5] END C=0.1, decision_function_shape=ovr, gamma=0.001, kernel=rbf;, score=0.698 total time=   0.0s\n",
            "[CV 2/5] END C=0.1, decision_function_shape=ovr, gamma=0.001, kernel=rbf;, score=0.698 total time=   0.0s\n",
            "[CV 3/5] END C=0.1, decision_function_shape=ovr, gamma=0.001, kernel=rbf;, score=0.694 total time=   0.0s\n",
            "[CV 4/5] END C=0.1, decision_function_shape=ovr, gamma=0.001, kernel=rbf;, score=0.694 total time=   0.0s\n",
            "[CV 5/5] END C=0.1, decision_function_shape=ovr, gamma=0.001, kernel=rbf;, score=0.697 total time=   0.0s\n",
            "[CV 1/5] END C=0.1, decision_function_shape=ovr, gamma=0.001, kernel=linear;, score=0.826 total time=   0.0s\n",
            "[CV 2/5] END C=0.1, decision_function_shape=ovr, gamma=0.001, kernel=linear;, score=0.826 total time=   0.0s\n",
            "[CV 3/5] END C=0.1, decision_function_shape=ovr, gamma=0.001, kernel=linear;, score=0.831 total time=   0.0s\n",
            "[CV 4/5] END C=0.1, decision_function_shape=ovr, gamma=0.001, kernel=linear;, score=0.814 total time=   0.0s\n",
            "[CV 5/5] END C=0.1, decision_function_shape=ovr, gamma=0.001, kernel=linear;, score=0.842 total time=   0.0s\n",
            "[CV 1/5] END C=0.1, decision_function_shape=ovr, gamma=0.0001, kernel=rbf;, score=0.698 total time=   0.0s\n",
            "[CV 2/5] END C=0.1, decision_function_shape=ovr, gamma=0.0001, kernel=rbf;, score=0.698 total time=   0.0s\n",
            "[CV 3/5] END C=0.1, decision_function_shape=ovr, gamma=0.0001, kernel=rbf;, score=0.694 total time=   0.0s\n",
            "[CV 4/5] END C=0.1, decision_function_shape=ovr, gamma=0.0001, kernel=rbf;, score=0.694 total time=   0.0s\n",
            "[CV 5/5] END C=0.1, decision_function_shape=ovr, gamma=0.0001, kernel=rbf;, score=0.697 total time=   0.0s\n",
            "[CV 1/5] END C=0.1, decision_function_shape=ovr, gamma=0.0001, kernel=linear;, score=0.826 total time=   0.0s\n",
            "[CV 2/5] END C=0.1, decision_function_shape=ovr, gamma=0.0001, kernel=linear;, score=0.826 total time=   0.0s\n",
            "[CV 3/5] END C=0.1, decision_function_shape=ovr, gamma=0.0001, kernel=linear;, score=0.831 total time=   0.0s\n",
            "[CV 4/5] END C=0.1, decision_function_shape=ovr, gamma=0.0001, kernel=linear;, score=0.814 total time=   0.0s\n",
            "[CV 5/5] END C=0.1, decision_function_shape=ovr, gamma=0.0001, kernel=linear;, score=0.842 total time=   0.0s\n",
            "[CV 1/5] END C=1, decision_function_shape=ovo, gamma=1, kernel=rbf;, score=0.955 total time=   0.1s\n",
            "[CV 2/5] END C=1, decision_function_shape=ovo, gamma=1, kernel=rbf;, score=0.971 total time=   0.1s\n",
            "[CV 3/5] END C=1, decision_function_shape=ovo, gamma=1, kernel=rbf;, score=0.946 total time=   0.1s\n",
            "[CV 4/5] END C=1, decision_function_shape=ovo, gamma=1, kernel=rbf;, score=0.959 total time=   0.1s\n",
            "[CV 5/5] END C=1, decision_function_shape=ovo, gamma=1, kernel=rbf;, score=0.950 total time=   0.1s\n",
            "[CV 1/5] END C=1, decision_function_shape=ovo, gamma=1, kernel=linear;, score=0.872 total time=   0.0s\n",
            "[CV 2/5] END C=1, decision_function_shape=ovo, gamma=1, kernel=linear;, score=0.860 total time=   0.0s\n",
            "[CV 3/5] END C=1, decision_function_shape=ovo, gamma=1, kernel=linear;, score=0.835 total time=   0.0s\n",
            "[CV 4/5] END C=1, decision_function_shape=ovo, gamma=1, kernel=linear;, score=0.818 total time=   0.0s\n",
            "[CV 5/5] END C=1, decision_function_shape=ovo, gamma=1, kernel=linear;, score=0.851 total time=   0.0s\n",
            "[CV 1/5] END C=1, decision_function_shape=ovo, gamma=0.1, kernel=rbf;, score=0.942 total time=   0.0s\n",
            "[CV 2/5] END C=1, decision_function_shape=ovo, gamma=0.1, kernel=rbf;, score=0.942 total time=   0.0s\n",
            "[CV 3/5] END C=1, decision_function_shape=ovo, gamma=0.1, kernel=rbf;, score=0.926 total time=   0.0s\n",
            "[CV 4/5] END C=1, decision_function_shape=ovo, gamma=0.1, kernel=rbf;, score=0.926 total time=   0.0s\n",
            "[CV 5/5] END C=1, decision_function_shape=ovo, gamma=0.1, kernel=rbf;, score=0.929 total time=   0.0s\n",
            "[CV 1/5] END C=1, decision_function_shape=ovo, gamma=0.1, kernel=linear;, score=0.872 total time=   0.0s\n",
            "[CV 2/5] END C=1, decision_function_shape=ovo, gamma=0.1, kernel=linear;, score=0.860 total time=   0.0s\n",
            "[CV 3/5] END C=1, decision_function_shape=ovo, gamma=0.1, kernel=linear;, score=0.835 total time=   0.0s\n",
            "[CV 4/5] END C=1, decision_function_shape=ovo, gamma=0.1, kernel=linear;, score=0.818 total time=   0.0s\n",
            "[CV 5/5] END C=1, decision_function_shape=ovo, gamma=0.1, kernel=linear;, score=0.851 total time=   0.0s\n",
            "[CV 1/5] END C=1, decision_function_shape=ovo, gamma=0.01, kernel=rbf;, score=0.789 total time=   0.0s\n",
            "[CV 2/5] END C=1, decision_function_shape=ovo, gamma=0.01, kernel=rbf;, score=0.802 total time=   0.0s\n",
            "[CV 3/5] END C=1, decision_function_shape=ovo, gamma=0.01, kernel=rbf;, score=0.777 total time=   0.0s\n",
            "[CV 4/5] END C=1, decision_function_shape=ovo, gamma=0.01, kernel=rbf;, score=0.756 total time=   0.0s\n",
            "[CV 5/5] END C=1, decision_function_shape=ovo, gamma=0.01, kernel=rbf;, score=0.813 total time=   0.0s\n",
            "[CV 1/5] END C=1, decision_function_shape=ovo, gamma=0.01, kernel=linear;, score=0.872 total time=   0.0s\n",
            "[CV 2/5] END C=1, decision_function_shape=ovo, gamma=0.01, kernel=linear;, score=0.860 total time=   0.0s\n",
            "[CV 3/5] END C=1, decision_function_shape=ovo, gamma=0.01, kernel=linear;, score=0.835 total time=   0.0s\n",
            "[CV 4/5] END C=1, decision_function_shape=ovo, gamma=0.01, kernel=linear;, score=0.818 total time=   0.0s\n",
            "[CV 5/5] END C=1, decision_function_shape=ovo, gamma=0.01, kernel=linear;, score=0.851 total time=   0.0s\n",
            "[CV 1/5] END C=1, decision_function_shape=ovo, gamma=0.001, kernel=rbf;, score=0.698 total time=   0.0s\n",
            "[CV 2/5] END C=1, decision_function_shape=ovo, gamma=0.001, kernel=rbf;, score=0.698 total time=   0.0s\n",
            "[CV 3/5] END C=1, decision_function_shape=ovo, gamma=0.001, kernel=rbf;, score=0.694 total time=   0.0s\n",
            "[CV 4/5] END C=1, decision_function_shape=ovo, gamma=0.001, kernel=rbf;, score=0.694 total time=   0.0s\n",
            "[CV 5/5] END C=1, decision_function_shape=ovo, gamma=0.001, kernel=rbf;, score=0.697 total time=   0.0s\n",
            "[CV 1/5] END C=1, decision_function_shape=ovo, gamma=0.001, kernel=linear;, score=0.872 total time=   0.0s\n",
            "[CV 2/5] END C=1, decision_function_shape=ovo, gamma=0.001, kernel=linear;, score=0.860 total time=   0.0s\n",
            "[CV 3/5] END C=1, decision_function_shape=ovo, gamma=0.001, kernel=linear;, score=0.835 total time=   0.0s\n",
            "[CV 4/5] END C=1, decision_function_shape=ovo, gamma=0.001, kernel=linear;, score=0.818 total time=   0.0s\n",
            "[CV 5/5] END C=1, decision_function_shape=ovo, gamma=0.001, kernel=linear;, score=0.851 total time=   0.0s\n",
            "[CV 1/5] END C=1, decision_function_shape=ovo, gamma=0.0001, kernel=rbf;, score=0.698 total time=   0.0s\n",
            "[CV 2/5] END C=1, decision_function_shape=ovo, gamma=0.0001, kernel=rbf;, score=0.698 total time=   0.0s\n",
            "[CV 3/5] END C=1, decision_function_shape=ovo, gamma=0.0001, kernel=rbf;, score=0.694 total time=   0.0s\n",
            "[CV 4/5] END C=1, decision_function_shape=ovo, gamma=0.0001, kernel=rbf;, score=0.694 total time=   0.0s\n",
            "[CV 5/5] END C=1, decision_function_shape=ovo, gamma=0.0001, kernel=rbf;, score=0.697 total time=   0.0s\n",
            "[CV 1/5] END C=1, decision_function_shape=ovo, gamma=0.0001, kernel=linear;, score=0.872 total time=   0.0s\n",
            "[CV 2/5] END C=1, decision_function_shape=ovo, gamma=0.0001, kernel=linear;, score=0.860 total time=   0.0s\n",
            "[CV 3/5] END C=1, decision_function_shape=ovo, gamma=0.0001, kernel=linear;, score=0.835 total time=   0.0s\n",
            "[CV 4/5] END C=1, decision_function_shape=ovo, gamma=0.0001, kernel=linear;, score=0.818 total time=   0.0s\n",
            "[CV 5/5] END C=1, decision_function_shape=ovo, gamma=0.0001, kernel=linear;, score=0.851 total time=   0.0s\n",
            "[CV 1/5] END C=1, decision_function_shape=ovr, gamma=1, kernel=rbf;, score=0.955 total time=   0.1s\n",
            "[CV 2/5] END C=1, decision_function_shape=ovr, gamma=1, kernel=rbf;, score=0.971 total time=   0.1s\n",
            "[CV 3/5] END C=1, decision_function_shape=ovr, gamma=1, kernel=rbf;, score=0.946 total time=   0.1s\n",
            "[CV 4/5] END C=1, decision_function_shape=ovr, gamma=1, kernel=rbf;, score=0.959 total time=   0.1s\n",
            "[CV 5/5] END C=1, decision_function_shape=ovr, gamma=1, kernel=rbf;, score=0.950 total time=   0.1s\n",
            "[CV 1/5] END C=1, decision_function_shape=ovr, gamma=1, kernel=linear;, score=0.872 total time=   0.0s\n",
            "[CV 2/5] END C=1, decision_function_shape=ovr, gamma=1, kernel=linear;, score=0.860 total time=   0.0s\n",
            "[CV 3/5] END C=1, decision_function_shape=ovr, gamma=1, kernel=linear;, score=0.835 total time=   0.0s\n",
            "[CV 4/5] END C=1, decision_function_shape=ovr, gamma=1, kernel=linear;, score=0.818 total time=   0.0s\n",
            "[CV 5/5] END C=1, decision_function_shape=ovr, gamma=1, kernel=linear;, score=0.851 total time=   0.0s\n",
            "[CV 1/5] END C=1, decision_function_shape=ovr, gamma=0.1, kernel=rbf;, score=0.942 total time=   0.0s\n",
            "[CV 2/5] END C=1, decision_function_shape=ovr, gamma=0.1, kernel=rbf;, score=0.942 total time=   0.0s\n",
            "[CV 3/5] END C=1, decision_function_shape=ovr, gamma=0.1, kernel=rbf;, score=0.926 total time=   0.0s\n",
            "[CV 4/5] END C=1, decision_function_shape=ovr, gamma=0.1, kernel=rbf;, score=0.926 total time=   0.0s\n",
            "[CV 5/5] END C=1, decision_function_shape=ovr, gamma=0.1, kernel=rbf;, score=0.929 total time=   0.0s\n",
            "[CV 1/5] END C=1, decision_function_shape=ovr, gamma=0.1, kernel=linear;, score=0.872 total time=   0.0s\n",
            "[CV 2/5] END C=1, decision_function_shape=ovr, gamma=0.1, kernel=linear;, score=0.860 total time=   0.0s\n",
            "[CV 3/5] END C=1, decision_function_shape=ovr, gamma=0.1, kernel=linear;, score=0.835 total time=   0.0s\n",
            "[CV 4/5] END C=1, decision_function_shape=ovr, gamma=0.1, kernel=linear;, score=0.818 total time=   0.0s\n",
            "[CV 5/5] END C=1, decision_function_shape=ovr, gamma=0.1, kernel=linear;, score=0.851 total time=   0.0s\n",
            "[CV 1/5] END C=1, decision_function_shape=ovr, gamma=0.01, kernel=rbf;, score=0.789 total time=   0.0s\n",
            "[CV 2/5] END C=1, decision_function_shape=ovr, gamma=0.01, kernel=rbf;, score=0.802 total time=   0.0s\n",
            "[CV 3/5] END C=1, decision_function_shape=ovr, gamma=0.01, kernel=rbf;, score=0.777 total time=   0.0s\n",
            "[CV 4/5] END C=1, decision_function_shape=ovr, gamma=0.01, kernel=rbf;, score=0.756 total time=   0.0s\n",
            "[CV 5/5] END C=1, decision_function_shape=ovr, gamma=0.01, kernel=rbf;, score=0.813 total time=   0.0s\n",
            "[CV 1/5] END C=1, decision_function_shape=ovr, gamma=0.01, kernel=linear;, score=0.872 total time=   0.0s\n",
            "[CV 2/5] END C=1, decision_function_shape=ovr, gamma=0.01, kernel=linear;, score=0.860 total time=   0.0s\n",
            "[CV 3/5] END C=1, decision_function_shape=ovr, gamma=0.01, kernel=linear;, score=0.835 total time=   0.0s\n",
            "[CV 4/5] END C=1, decision_function_shape=ovr, gamma=0.01, kernel=linear;, score=0.818 total time=   0.0s\n",
            "[CV 5/5] END C=1, decision_function_shape=ovr, gamma=0.01, kernel=linear;, score=0.851 total time=   0.0s\n",
            "[CV 1/5] END C=1, decision_function_shape=ovr, gamma=0.001, kernel=rbf;, score=0.698 total time=   0.0s\n",
            "[CV 2/5] END C=1, decision_function_shape=ovr, gamma=0.001, kernel=rbf;, score=0.698 total time=   0.0s\n",
            "[CV 3/5] END C=1, decision_function_shape=ovr, gamma=0.001, kernel=rbf;, score=0.694 total time=   0.0s\n",
            "[CV 4/5] END C=1, decision_function_shape=ovr, gamma=0.001, kernel=rbf;, score=0.694 total time=   0.0s\n",
            "[CV 5/5] END C=1, decision_function_shape=ovr, gamma=0.001, kernel=rbf;, score=0.697 total time=   0.0s\n",
            "[CV 1/5] END C=1, decision_function_shape=ovr, gamma=0.001, kernel=linear;, score=0.872 total time=   0.0s\n",
            "[CV 2/5] END C=1, decision_function_shape=ovr, gamma=0.001, kernel=linear;, score=0.860 total time=   0.0s\n",
            "[CV 3/5] END C=1, decision_function_shape=ovr, gamma=0.001, kernel=linear;, score=0.835 total time=   0.0s\n",
            "[CV 4/5] END C=1, decision_function_shape=ovr, gamma=0.001, kernel=linear;, score=0.818 total time=   0.0s\n",
            "[CV 5/5] END C=1, decision_function_shape=ovr, gamma=0.001, kernel=linear;, score=0.851 total time=   0.0s\n",
            "[CV 1/5] END C=1, decision_function_shape=ovr, gamma=0.0001, kernel=rbf;, score=0.698 total time=   0.0s\n",
            "[CV 2/5] END C=1, decision_function_shape=ovr, gamma=0.0001, kernel=rbf;, score=0.698 total time=   0.0s\n",
            "[CV 3/5] END C=1, decision_function_shape=ovr, gamma=0.0001, kernel=rbf;, score=0.694 total time=   0.0s\n",
            "[CV 4/5] END C=1, decision_function_shape=ovr, gamma=0.0001, kernel=rbf;, score=0.694 total time=   0.0s\n",
            "[CV 5/5] END C=1, decision_function_shape=ovr, gamma=0.0001, kernel=rbf;, score=0.697 total time=   0.0s\n",
            "[CV 1/5] END C=1, decision_function_shape=ovr, gamma=0.0001, kernel=linear;, score=0.872 total time=   0.0s\n",
            "[CV 2/5] END C=1, decision_function_shape=ovr, gamma=0.0001, kernel=linear;, score=0.860 total time=   0.0s\n",
            "[CV 3/5] END C=1, decision_function_shape=ovr, gamma=0.0001, kernel=linear;, score=0.835 total time=   0.0s\n",
            "[CV 4/5] END C=1, decision_function_shape=ovr, gamma=0.0001, kernel=linear;, score=0.818 total time=   0.0s\n",
            "[CV 5/5] END C=1, decision_function_shape=ovr, gamma=0.0001, kernel=linear;, score=0.851 total time=   0.0s\n",
            "[CV 1/5] END C=10, decision_function_shape=ovo, gamma=1, kernel=rbf;, score=0.971 total time=   0.1s\n",
            "[CV 2/5] END C=10, decision_function_shape=ovo, gamma=1, kernel=rbf;, score=0.975 total time=   0.1s\n",
            "[CV 3/5] END C=10, decision_function_shape=ovo, gamma=1, kernel=rbf;, score=0.955 total time=   0.1s\n",
            "[CV 4/5] END C=10, decision_function_shape=ovo, gamma=1, kernel=rbf;, score=0.979 total time=   0.1s\n",
            "[CV 5/5] END C=10, decision_function_shape=ovo, gamma=1, kernel=rbf;, score=0.971 total time=   0.1s\n",
            "[CV 1/5] END C=10, decision_function_shape=ovo, gamma=1, kernel=linear;, score=0.880 total time=   0.0s\n",
            "[CV 2/5] END C=10, decision_function_shape=ovo, gamma=1, kernel=linear;, score=0.851 total time=   0.0s\n",
            "[CV 3/5] END C=10, decision_function_shape=ovo, gamma=1, kernel=linear;, score=0.855 total time=   0.0s\n",
            "[CV 4/5] END C=10, decision_function_shape=ovo, gamma=1, kernel=linear;, score=0.831 total time=   0.0s\n",
            "[CV 5/5] END C=10, decision_function_shape=ovo, gamma=1, kernel=linear;, score=0.846 total time=   0.0s\n",
            "[CV 1/5] END C=10, decision_function_shape=ovo, gamma=0.1, kernel=rbf;, score=0.983 total time=   0.0s\n",
            "[CV 2/5] END C=10, decision_function_shape=ovo, gamma=0.1, kernel=rbf;, score=0.983 total time=   0.0s\n",
            "[CV 3/5] END C=10, decision_function_shape=ovo, gamma=0.1, kernel=rbf;, score=0.967 total time=   0.0s\n",
            "[CV 4/5] END C=10, decision_function_shape=ovo, gamma=0.1, kernel=rbf;, score=0.988 total time=   0.0s\n",
            "[CV 5/5] END C=10, decision_function_shape=ovo, gamma=0.1, kernel=rbf;, score=0.983 total time=   0.0s\n",
            "[CV 1/5] END C=10, decision_function_shape=ovo, gamma=0.1, kernel=linear;, score=0.880 total time=   0.0s\n",
            "[CV 2/5] END C=10, decision_function_shape=ovo, gamma=0.1, kernel=linear;, score=0.851 total time=   0.0s\n",
            "[CV 3/5] END C=10, decision_function_shape=ovo, gamma=0.1, kernel=linear;, score=0.855 total time=   0.0s\n",
            "[CV 4/5] END C=10, decision_function_shape=ovo, gamma=0.1, kernel=linear;, score=0.831 total time=   0.0s\n",
            "[CV 5/5] END C=10, decision_function_shape=ovo, gamma=0.1, kernel=linear;, score=0.846 total time=   0.0s\n",
            "[CV 1/5] END C=10, decision_function_shape=ovo, gamma=0.01, kernel=rbf;, score=0.893 total time=   0.0s\n",
            "[CV 2/5] END C=10, decision_function_shape=ovo, gamma=0.01, kernel=rbf;, score=0.888 total time=   0.0s\n",
            "[CV 3/5] END C=10, decision_function_shape=ovo, gamma=0.01, kernel=rbf;, score=0.868 total time=   0.0s\n",
            "[CV 4/5] END C=10, decision_function_shape=ovo, gamma=0.01, kernel=rbf;, score=0.855 total time=   0.0s\n",
            "[CV 5/5] END C=10, decision_function_shape=ovo, gamma=0.01, kernel=rbf;, score=0.867 total time=   0.0s\n",
            "[CV 1/5] END C=10, decision_function_shape=ovo, gamma=0.01, kernel=linear;, score=0.880 total time=   0.0s\n",
            "[CV 2/5] END C=10, decision_function_shape=ovo, gamma=0.01, kernel=linear;, score=0.851 total time=   0.0s\n",
            "[CV 3/5] END C=10, decision_function_shape=ovo, gamma=0.01, kernel=linear;, score=0.855 total time=   0.0s\n",
            "[CV 4/5] END C=10, decision_function_shape=ovo, gamma=0.01, kernel=linear;, score=0.831 total time=   0.0s\n",
            "[CV 5/5] END C=10, decision_function_shape=ovo, gamma=0.01, kernel=linear;, score=0.846 total time=   0.0s\n",
            "[CV 1/5] END C=10, decision_function_shape=ovo, gamma=0.001, kernel=rbf;, score=0.781 total time=   0.0s\n",
            "[CV 2/5] END C=10, decision_function_shape=ovo, gamma=0.001, kernel=rbf;, score=0.789 total time=   0.0s\n",
            "[CV 3/5] END C=10, decision_function_shape=ovo, gamma=0.001, kernel=rbf;, score=0.769 total time=   0.0s\n",
            "[CV 4/5] END C=10, decision_function_shape=ovo, gamma=0.001, kernel=rbf;, score=0.748 total time=   0.0s\n",
            "[CV 5/5] END C=10, decision_function_shape=ovo, gamma=0.001, kernel=rbf;, score=0.793 total time=   0.0s\n",
            "[CV 1/5] END C=10, decision_function_shape=ovo, gamma=0.001, kernel=linear;, score=0.880 total time=   0.0s\n",
            "[CV 2/5] END C=10, decision_function_shape=ovo, gamma=0.001, kernel=linear;, score=0.851 total time=   0.0s\n",
            "[CV 3/5] END C=10, decision_function_shape=ovo, gamma=0.001, kernel=linear;, score=0.855 total time=   0.0s\n",
            "[CV 4/5] END C=10, decision_function_shape=ovo, gamma=0.001, kernel=linear;, score=0.831 total time=   0.0s\n",
            "[CV 5/5] END C=10, decision_function_shape=ovo, gamma=0.001, kernel=linear;, score=0.846 total time=   0.0s\n",
            "[CV 1/5] END C=10, decision_function_shape=ovo, gamma=0.0001, kernel=rbf;, score=0.698 total time=   0.0s\n",
            "[CV 2/5] END C=10, decision_function_shape=ovo, gamma=0.0001, kernel=rbf;, score=0.698 total time=   0.0s\n",
            "[CV 3/5] END C=10, decision_function_shape=ovo, gamma=0.0001, kernel=rbf;, score=0.694 total time=   0.0s\n",
            "[CV 4/5] END C=10, decision_function_shape=ovo, gamma=0.0001, kernel=rbf;, score=0.694 total time=   0.0s\n",
            "[CV 5/5] END C=10, decision_function_shape=ovo, gamma=0.0001, kernel=rbf;, score=0.697 total time=   0.0s\n",
            "[CV 1/5] END C=10, decision_function_shape=ovo, gamma=0.0001, kernel=linear;, score=0.880 total time=   0.0s\n",
            "[CV 2/5] END C=10, decision_function_shape=ovo, gamma=0.0001, kernel=linear;, score=0.851 total time=   0.0s\n",
            "[CV 3/5] END C=10, decision_function_shape=ovo, gamma=0.0001, kernel=linear;, score=0.855 total time=   0.0s\n",
            "[CV 4/5] END C=10, decision_function_shape=ovo, gamma=0.0001, kernel=linear;, score=0.831 total time=   0.0s\n",
            "[CV 5/5] END C=10, decision_function_shape=ovo, gamma=0.0001, kernel=linear;, score=0.846 total time=   0.0s\n",
            "[CV 1/5] END C=10, decision_function_shape=ovr, gamma=1, kernel=rbf;, score=0.971 total time=   0.1s\n",
            "[CV 2/5] END C=10, decision_function_shape=ovr, gamma=1, kernel=rbf;, score=0.975 total time=   0.1s\n",
            "[CV 3/5] END C=10, decision_function_shape=ovr, gamma=1, kernel=rbf;, score=0.955 total time=   0.1s\n",
            "[CV 4/5] END C=10, decision_function_shape=ovr, gamma=1, kernel=rbf;, score=0.979 total time=   0.1s\n",
            "[CV 5/5] END C=10, decision_function_shape=ovr, gamma=1, kernel=rbf;, score=0.971 total time=   0.1s\n",
            "[CV 1/5] END C=10, decision_function_shape=ovr, gamma=1, kernel=linear;, score=0.880 total time=   0.0s\n",
            "[CV 2/5] END C=10, decision_function_shape=ovr, gamma=1, kernel=linear;, score=0.851 total time=   0.0s\n",
            "[CV 3/5] END C=10, decision_function_shape=ovr, gamma=1, kernel=linear;, score=0.855 total time=   0.0s\n",
            "[CV 4/5] END C=10, decision_function_shape=ovr, gamma=1, kernel=linear;, score=0.831 total time=   0.0s\n",
            "[CV 5/5] END C=10, decision_function_shape=ovr, gamma=1, kernel=linear;, score=0.846 total time=   0.0s\n",
            "[CV 1/5] END C=10, decision_function_shape=ovr, gamma=0.1, kernel=rbf;, score=0.983 total time=   0.0s\n",
            "[CV 2/5] END C=10, decision_function_shape=ovr, gamma=0.1, kernel=rbf;, score=0.983 total time=   0.0s\n",
            "[CV 3/5] END C=10, decision_function_shape=ovr, gamma=0.1, kernel=rbf;, score=0.967 total time=   0.0s\n",
            "[CV 4/5] END C=10, decision_function_shape=ovr, gamma=0.1, kernel=rbf;, score=0.988 total time=   0.0s\n",
            "[CV 5/5] END C=10, decision_function_shape=ovr, gamma=0.1, kernel=rbf;, score=0.983 total time=   0.0s\n",
            "[CV 1/5] END C=10, decision_function_shape=ovr, gamma=0.1, kernel=linear;, score=0.880 total time=   0.0s\n",
            "[CV 2/5] END C=10, decision_function_shape=ovr, gamma=0.1, kernel=linear;, score=0.851 total time=   0.0s\n",
            "[CV 3/5] END C=10, decision_function_shape=ovr, gamma=0.1, kernel=linear;, score=0.855 total time=   0.0s\n",
            "[CV 4/5] END C=10, decision_function_shape=ovr, gamma=0.1, kernel=linear;, score=0.831 total time=   0.0s\n",
            "[CV 5/5] END C=10, decision_function_shape=ovr, gamma=0.1, kernel=linear;, score=0.846 total time=   0.0s\n",
            "[CV 1/5] END C=10, decision_function_shape=ovr, gamma=0.01, kernel=rbf;, score=0.893 total time=   0.0s\n",
            "[CV 2/5] END C=10, decision_function_shape=ovr, gamma=0.01, kernel=rbf;, score=0.888 total time=   0.0s\n",
            "[CV 3/5] END C=10, decision_function_shape=ovr, gamma=0.01, kernel=rbf;, score=0.868 total time=   0.0s\n",
            "[CV 4/5] END C=10, decision_function_shape=ovr, gamma=0.01, kernel=rbf;, score=0.855 total time=   0.0s\n",
            "[CV 5/5] END C=10, decision_function_shape=ovr, gamma=0.01, kernel=rbf;, score=0.867 total time=   0.0s\n",
            "[CV 1/5] END C=10, decision_function_shape=ovr, gamma=0.01, kernel=linear;, score=0.880 total time=   0.0s\n",
            "[CV 2/5] END C=10, decision_function_shape=ovr, gamma=0.01, kernel=linear;, score=0.851 total time=   0.0s\n",
            "[CV 3/5] END C=10, decision_function_shape=ovr, gamma=0.01, kernel=linear;, score=0.855 total time=   0.0s\n",
            "[CV 4/5] END C=10, decision_function_shape=ovr, gamma=0.01, kernel=linear;, score=0.831 total time=   0.0s\n",
            "[CV 5/5] END C=10, decision_function_shape=ovr, gamma=0.01, kernel=linear;, score=0.846 total time=   0.0s\n",
            "[CV 1/5] END C=10, decision_function_shape=ovr, gamma=0.001, kernel=rbf;, score=0.781 total time=   0.0s\n",
            "[CV 2/5] END C=10, decision_function_shape=ovr, gamma=0.001, kernel=rbf;, score=0.789 total time=   0.0s\n",
            "[CV 3/5] END C=10, decision_function_shape=ovr, gamma=0.001, kernel=rbf;, score=0.769 total time=   0.0s\n",
            "[CV 4/5] END C=10, decision_function_shape=ovr, gamma=0.001, kernel=rbf;, score=0.748 total time=   0.0s\n",
            "[CV 5/5] END C=10, decision_function_shape=ovr, gamma=0.001, kernel=rbf;, score=0.793 total time=   0.0s\n",
            "[CV 1/5] END C=10, decision_function_shape=ovr, gamma=0.001, kernel=linear;, score=0.880 total time=   0.0s\n",
            "[CV 2/5] END C=10, decision_function_shape=ovr, gamma=0.001, kernel=linear;, score=0.851 total time=   0.0s\n",
            "[CV 3/5] END C=10, decision_function_shape=ovr, gamma=0.001, kernel=linear;, score=0.855 total time=   0.0s\n",
            "[CV 4/5] END C=10, decision_function_shape=ovr, gamma=0.001, kernel=linear;, score=0.831 total time=   0.0s\n",
            "[CV 5/5] END C=10, decision_function_shape=ovr, gamma=0.001, kernel=linear;, score=0.846 total time=   0.0s\n",
            "[CV 1/5] END C=10, decision_function_shape=ovr, gamma=0.0001, kernel=rbf;, score=0.698 total time=   0.0s\n",
            "[CV 2/5] END C=10, decision_function_shape=ovr, gamma=0.0001, kernel=rbf;, score=0.698 total time=   0.0s\n",
            "[CV 3/5] END C=10, decision_function_shape=ovr, gamma=0.0001, kernel=rbf;, score=0.694 total time=   0.0s\n",
            "[CV 4/5] END C=10, decision_function_shape=ovr, gamma=0.0001, kernel=rbf;, score=0.694 total time=   0.0s\n",
            "[CV 5/5] END C=10, decision_function_shape=ovr, gamma=0.0001, kernel=rbf;, score=0.697 total time=   0.0s\n",
            "[CV 1/5] END C=10, decision_function_shape=ovr, gamma=0.0001, kernel=linear;, score=0.880 total time=   0.0s\n",
            "[CV 2/5] END C=10, decision_function_shape=ovr, gamma=0.0001, kernel=linear;, score=0.851 total time=   0.0s\n",
            "[CV 3/5] END C=10, decision_function_shape=ovr, gamma=0.0001, kernel=linear;, score=0.855 total time=   0.0s\n",
            "[CV 4/5] END C=10, decision_function_shape=ovr, gamma=0.0001, kernel=linear;, score=0.831 total time=   0.0s\n",
            "[CV 5/5] END C=10, decision_function_shape=ovr, gamma=0.0001, kernel=linear;, score=0.846 total time=   0.0s\n",
            "[CV 1/5] END C=100, decision_function_shape=ovo, gamma=1, kernel=rbf;, score=0.971 total time=   0.1s\n",
            "[CV 2/5] END C=100, decision_function_shape=ovo, gamma=1, kernel=rbf;, score=0.975 total time=   0.1s\n",
            "[CV 3/5] END C=100, decision_function_shape=ovo, gamma=1, kernel=rbf;, score=0.955 total time=   0.1s\n",
            "[CV 4/5] END C=100, decision_function_shape=ovo, gamma=1, kernel=rbf;, score=0.979 total time=   0.1s\n",
            "[CV 5/5] END C=100, decision_function_shape=ovo, gamma=1, kernel=rbf;, score=0.971 total time=   0.1s\n",
            "[CV 1/5] END C=100, decision_function_shape=ovo, gamma=1, kernel=linear;, score=0.872 total time=   0.1s\n",
            "[CV 2/5] END C=100, decision_function_shape=ovo, gamma=1, kernel=linear;, score=0.847 total time=   0.1s\n",
            "[CV 3/5] END C=100, decision_function_shape=ovo, gamma=1, kernel=linear;, score=0.864 total time=   0.1s\n",
            "[CV 4/5] END C=100, decision_function_shape=ovo, gamma=1, kernel=linear;, score=0.831 total time=   0.1s\n",
            "[CV 5/5] END C=100, decision_function_shape=ovo, gamma=1, kernel=linear;, score=0.846 total time=   0.1s\n",
            "[CV 1/5] END C=100, decision_function_shape=ovo, gamma=0.1, kernel=rbf;, score=0.979 total time=   0.0s\n",
            "[CV 2/5] END C=100, decision_function_shape=ovo, gamma=0.1, kernel=rbf;, score=0.967 total time=   0.0s\n",
            "[CV 3/5] END C=100, decision_function_shape=ovo, gamma=0.1, kernel=rbf;, score=0.983 total time=   0.0s\n",
            "[CV 4/5] END C=100, decision_function_shape=ovo, gamma=0.1, kernel=rbf;, score=0.992 total time=   0.0s\n",
            "[CV 5/5] END C=100, decision_function_shape=ovo, gamma=0.1, kernel=rbf;, score=0.988 total time=   0.0s\n",
            "[CV 1/5] END C=100, decision_function_shape=ovo, gamma=0.1, kernel=linear;, score=0.872 total time=   0.1s\n",
            "[CV 2/5] END C=100, decision_function_shape=ovo, gamma=0.1, kernel=linear;, score=0.847 total time=   0.1s\n",
            "[CV 3/5] END C=100, decision_function_shape=ovo, gamma=0.1, kernel=linear;, score=0.864 total time=   0.1s\n",
            "[CV 4/5] END C=100, decision_function_shape=ovo, gamma=0.1, kernel=linear;, score=0.831 total time=   0.1s\n",
            "[CV 5/5] END C=100, decision_function_shape=ovo, gamma=0.1, kernel=linear;, score=0.846 total time=   0.1s\n",
            "[CV 1/5] END C=100, decision_function_shape=ovo, gamma=0.01, kernel=rbf;, score=0.934 total time=   0.0s\n",
            "[CV 2/5] END C=100, decision_function_shape=ovo, gamma=0.01, kernel=rbf;, score=0.942 total time=   0.0s\n",
            "[CV 3/5] END C=100, decision_function_shape=ovo, gamma=0.01, kernel=rbf;, score=0.938 total time=   0.0s\n",
            "[CV 4/5] END C=100, decision_function_shape=ovo, gamma=0.01, kernel=rbf;, score=0.938 total time=   0.0s\n",
            "[CV 5/5] END C=100, decision_function_shape=ovo, gamma=0.01, kernel=rbf;, score=0.934 total time=   0.0s\n",
            "[CV 1/5] END C=100, decision_function_shape=ovo, gamma=0.01, kernel=linear;, score=0.872 total time=   0.2s\n",
            "[CV 2/5] END C=100, decision_function_shape=ovo, gamma=0.01, kernel=linear;, score=0.847 total time=   0.1s\n",
            "[CV 3/5] END C=100, decision_function_shape=ovo, gamma=0.01, kernel=linear;, score=0.864 total time=   0.1s\n",
            "[CV 4/5] END C=100, decision_function_shape=ovo, gamma=0.01, kernel=linear;, score=0.831 total time=   0.1s\n",
            "[CV 5/5] END C=100, decision_function_shape=ovo, gamma=0.01, kernel=linear;, score=0.846 total time=   0.1s\n",
            "[CV 1/5] END C=100, decision_function_shape=ovo, gamma=0.001, kernel=rbf;, score=0.868 total time=   0.0s\n",
            "[CV 2/5] END C=100, decision_function_shape=ovo, gamma=0.001, kernel=rbf;, score=0.855 total time=   0.0s\n",
            "[CV 3/5] END C=100, decision_function_shape=ovo, gamma=0.001, kernel=rbf;, score=0.851 total time=   0.0s\n",
            "[CV 4/5] END C=100, decision_function_shape=ovo, gamma=0.001, kernel=rbf;, score=0.831 total time=   0.0s\n",
            "[CV 5/5] END C=100, decision_function_shape=ovo, gamma=0.001, kernel=rbf;, score=0.846 total time=   0.0s\n",
            "[CV 1/5] END C=100, decision_function_shape=ovo, gamma=0.001, kernel=linear;, score=0.872 total time=   0.2s\n",
            "[CV 2/5] END C=100, decision_function_shape=ovo, gamma=0.001, kernel=linear;, score=0.847 total time=   0.1s\n",
            "[CV 3/5] END C=100, decision_function_shape=ovo, gamma=0.001, kernel=linear;, score=0.864 total time=   0.1s\n",
            "[CV 4/5] END C=100, decision_function_shape=ovo, gamma=0.001, kernel=linear;, score=0.831 total time=   0.1s\n",
            "[CV 5/5] END C=100, decision_function_shape=ovo, gamma=0.001, kernel=linear;, score=0.846 total time=   0.1s\n",
            "[CV 1/5] END C=100, decision_function_shape=ovo, gamma=0.0001, kernel=rbf;, score=0.781 total time=   0.0s\n",
            "[CV 2/5] END C=100, decision_function_shape=ovo, gamma=0.0001, kernel=rbf;, score=0.789 total time=   0.0s\n",
            "[CV 3/5] END C=100, decision_function_shape=ovo, gamma=0.0001, kernel=rbf;, score=0.764 total time=   0.0s\n",
            "[CV 4/5] END C=100, decision_function_shape=ovo, gamma=0.0001, kernel=rbf;, score=0.748 total time=   0.0s\n",
            "[CV 5/5] END C=100, decision_function_shape=ovo, gamma=0.0001, kernel=rbf;, score=0.784 total time=   0.0s\n",
            "[CV 1/5] END C=100, decision_function_shape=ovo, gamma=0.0001, kernel=linear;, score=0.872 total time=   0.2s\n",
            "[CV 2/5] END C=100, decision_function_shape=ovo, gamma=0.0001, kernel=linear;, score=0.847 total time=   0.1s\n",
            "[CV 3/5] END C=100, decision_function_shape=ovo, gamma=0.0001, kernel=linear;, score=0.864 total time=   0.1s\n",
            "[CV 4/5] END C=100, decision_function_shape=ovo, gamma=0.0001, kernel=linear;, score=0.831 total time=   0.1s\n",
            "[CV 5/5] END C=100, decision_function_shape=ovo, gamma=0.0001, kernel=linear;, score=0.846 total time=   0.1s\n",
            "[CV 1/5] END C=100, decision_function_shape=ovr, gamma=1, kernel=rbf;, score=0.971 total time=   0.1s\n",
            "[CV 2/5] END C=100, decision_function_shape=ovr, gamma=1, kernel=rbf;, score=0.975 total time=   0.1s\n",
            "[CV 3/5] END C=100, decision_function_shape=ovr, gamma=1, kernel=rbf;, score=0.955 total time=   0.1s\n",
            "[CV 4/5] END C=100, decision_function_shape=ovr, gamma=1, kernel=rbf;, score=0.979 total time=   0.1s\n",
            "[CV 5/5] END C=100, decision_function_shape=ovr, gamma=1, kernel=rbf;, score=0.971 total time=   0.1s\n",
            "[CV 1/5] END C=100, decision_function_shape=ovr, gamma=1, kernel=linear;, score=0.872 total time=   0.1s\n",
            "[CV 2/5] END C=100, decision_function_shape=ovr, gamma=1, kernel=linear;, score=0.847 total time=   0.1s\n",
            "[CV 3/5] END C=100, decision_function_shape=ovr, gamma=1, kernel=linear;, score=0.864 total time=   0.1s\n",
            "[CV 4/5] END C=100, decision_function_shape=ovr, gamma=1, kernel=linear;, score=0.831 total time=   0.1s\n",
            "[CV 5/5] END C=100, decision_function_shape=ovr, gamma=1, kernel=linear;, score=0.846 total time=   0.1s\n",
            "[CV 1/5] END C=100, decision_function_shape=ovr, gamma=0.1, kernel=rbf;, score=0.979 total time=   0.0s\n",
            "[CV 2/5] END C=100, decision_function_shape=ovr, gamma=0.1, kernel=rbf;, score=0.967 total time=   0.0s\n",
            "[CV 3/5] END C=100, decision_function_shape=ovr, gamma=0.1, kernel=rbf;, score=0.983 total time=   0.0s\n",
            "[CV 4/5] END C=100, decision_function_shape=ovr, gamma=0.1, kernel=rbf;, score=0.992 total time=   0.0s\n",
            "[CV 5/5] END C=100, decision_function_shape=ovr, gamma=0.1, kernel=rbf;, score=0.988 total time=   0.0s\n",
            "[CV 1/5] END C=100, decision_function_shape=ovr, gamma=0.1, kernel=linear;, score=0.872 total time=   0.2s\n",
            "[CV 2/5] END C=100, decision_function_shape=ovr, gamma=0.1, kernel=linear;, score=0.847 total time=   0.1s\n",
            "[CV 3/5] END C=100, decision_function_shape=ovr, gamma=0.1, kernel=linear;, score=0.864 total time=   0.1s\n",
            "[CV 4/5] END C=100, decision_function_shape=ovr, gamma=0.1, kernel=linear;, score=0.831 total time=   0.1s\n",
            "[CV 5/5] END C=100, decision_function_shape=ovr, gamma=0.1, kernel=linear;, score=0.846 total time=   0.1s\n",
            "[CV 1/5] END C=100, decision_function_shape=ovr, gamma=0.01, kernel=rbf;, score=0.934 total time=   0.0s\n",
            "[CV 2/5] END C=100, decision_function_shape=ovr, gamma=0.01, kernel=rbf;, score=0.942 total time=   0.0s\n",
            "[CV 3/5] END C=100, decision_function_shape=ovr, gamma=0.01, kernel=rbf;, score=0.938 total time=   0.0s\n",
            "[CV 4/5] END C=100, decision_function_shape=ovr, gamma=0.01, kernel=rbf;, score=0.938 total time=   0.0s\n",
            "[CV 5/5] END C=100, decision_function_shape=ovr, gamma=0.01, kernel=rbf;, score=0.934 total time=   0.0s\n",
            "[CV 1/5] END C=100, decision_function_shape=ovr, gamma=0.01, kernel=linear;, score=0.872 total time=   0.1s\n",
            "[CV 2/5] END C=100, decision_function_shape=ovr, gamma=0.01, kernel=linear;, score=0.847 total time=   0.1s\n",
            "[CV 3/5] END C=100, decision_function_shape=ovr, gamma=0.01, kernel=linear;, score=0.864 total time=   0.1s\n",
            "[CV 4/5] END C=100, decision_function_shape=ovr, gamma=0.01, kernel=linear;, score=0.831 total time=   0.1s\n",
            "[CV 5/5] END C=100, decision_function_shape=ovr, gamma=0.01, kernel=linear;, score=0.846 total time=   0.1s\n",
            "[CV 1/5] END C=100, decision_function_shape=ovr, gamma=0.001, kernel=rbf;, score=0.868 total time=   0.0s\n",
            "[CV 2/5] END C=100, decision_function_shape=ovr, gamma=0.001, kernel=rbf;, score=0.855 total time=   0.0s\n",
            "[CV 3/5] END C=100, decision_function_shape=ovr, gamma=0.001, kernel=rbf;, score=0.851 total time=   0.0s\n",
            "[CV 4/5] END C=100, decision_function_shape=ovr, gamma=0.001, kernel=rbf;, score=0.831 total time=   0.0s\n",
            "[CV 5/5] END C=100, decision_function_shape=ovr, gamma=0.001, kernel=rbf;, score=0.846 total time=   0.0s\n",
            "[CV 1/5] END C=100, decision_function_shape=ovr, gamma=0.001, kernel=linear;, score=0.872 total time=   0.1s\n",
            "[CV 2/5] END C=100, decision_function_shape=ovr, gamma=0.001, kernel=linear;, score=0.847 total time=   0.1s\n",
            "[CV 3/5] END C=100, decision_function_shape=ovr, gamma=0.001, kernel=linear;, score=0.864 total time=   0.1s\n",
            "[CV 4/5] END C=100, decision_function_shape=ovr, gamma=0.001, kernel=linear;, score=0.831 total time=   0.1s\n",
            "[CV 5/5] END C=100, decision_function_shape=ovr, gamma=0.001, kernel=linear;, score=0.846 total time=   0.1s\n",
            "[CV 1/5] END C=100, decision_function_shape=ovr, gamma=0.0001, kernel=rbf;, score=0.781 total time=   0.0s\n",
            "[CV 2/5] END C=100, decision_function_shape=ovr, gamma=0.0001, kernel=rbf;, score=0.789 total time=   0.0s\n",
            "[CV 3/5] END C=100, decision_function_shape=ovr, gamma=0.0001, kernel=rbf;, score=0.764 total time=   0.0s\n",
            "[CV 4/5] END C=100, decision_function_shape=ovr, gamma=0.0001, kernel=rbf;, score=0.748 total time=   0.0s\n",
            "[CV 5/5] END C=100, decision_function_shape=ovr, gamma=0.0001, kernel=rbf;, score=0.784 total time=   0.0s\n",
            "[CV 1/5] END C=100, decision_function_shape=ovr, gamma=0.0001, kernel=linear;, score=0.872 total time=   0.1s\n",
            "[CV 2/5] END C=100, decision_function_shape=ovr, gamma=0.0001, kernel=linear;, score=0.847 total time=   0.1s\n",
            "[CV 3/5] END C=100, decision_function_shape=ovr, gamma=0.0001, kernel=linear;, score=0.864 total time=   0.1s\n",
            "[CV 4/5] END C=100, decision_function_shape=ovr, gamma=0.0001, kernel=linear;, score=0.831 total time=   0.1s\n",
            "[CV 5/5] END C=100, decision_function_shape=ovr, gamma=0.0001, kernel=linear;, score=0.846 total time=   0.1s\n",
            "[CV 1/5] END C=1000, decision_function_shape=ovo, gamma=1, kernel=rbf;, score=0.971 total time=   0.1s\n",
            "[CV 2/5] END C=1000, decision_function_shape=ovo, gamma=1, kernel=rbf;, score=0.975 total time=   0.1s\n",
            "[CV 3/5] END C=1000, decision_function_shape=ovo, gamma=1, kernel=rbf;, score=0.955 total time=   0.1s\n",
            "[CV 4/5] END C=1000, decision_function_shape=ovo, gamma=1, kernel=rbf;, score=0.979 total time=   0.1s\n",
            "[CV 5/5] END C=1000, decision_function_shape=ovo, gamma=1, kernel=rbf;, score=0.971 total time=   0.1s\n",
            "[CV 1/5] END C=1000, decision_function_shape=ovo, gamma=1, kernel=linear;, score=0.872 total time=   0.9s\n",
            "[CV 2/5] END C=1000, decision_function_shape=ovo, gamma=1, kernel=linear;, score=0.847 total time=   0.9s\n",
            "[CV 3/5] END C=1000, decision_function_shape=ovo, gamma=1, kernel=linear;, score=0.864 total time=   0.9s\n",
            "[CV 4/5] END C=1000, decision_function_shape=ovo, gamma=1, kernel=linear;, score=0.831 total time=   0.8s\n",
            "[CV 5/5] END C=1000, decision_function_shape=ovo, gamma=1, kernel=linear;, score=0.842 total time=   0.8s\n",
            "[CV 1/5] END C=1000, decision_function_shape=ovo, gamma=0.1, kernel=rbf;, score=0.979 total time=   0.0s\n",
            "[CV 2/5] END C=1000, decision_function_shape=ovo, gamma=0.1, kernel=rbf;, score=0.963 total time=   0.0s\n",
            "[CV 3/5] END C=1000, decision_function_shape=ovo, gamma=0.1, kernel=rbf;, score=0.983 total time=   0.0s\n",
            "[CV 4/5] END C=1000, decision_function_shape=ovo, gamma=0.1, kernel=rbf;, score=0.988 total time=   0.0s\n",
            "[CV 5/5] END C=1000, decision_function_shape=ovo, gamma=0.1, kernel=rbf;, score=0.988 total time=   0.0s\n",
            "[CV 1/5] END C=1000, decision_function_shape=ovo, gamma=0.1, kernel=linear;, score=0.872 total time=   0.9s\n",
            "[CV 2/5] END C=1000, decision_function_shape=ovo, gamma=0.1, kernel=linear;, score=0.847 total time=   0.9s\n",
            "[CV 3/5] END C=1000, decision_function_shape=ovo, gamma=0.1, kernel=linear;, score=0.864 total time=   0.9s\n",
            "[CV 4/5] END C=1000, decision_function_shape=ovo, gamma=0.1, kernel=linear;, score=0.831 total time=   0.8s\n",
            "[CV 5/5] END C=1000, decision_function_shape=ovo, gamma=0.1, kernel=linear;, score=0.842 total time=   0.8s\n",
            "[CV 1/5] END C=1000, decision_function_shape=ovo, gamma=0.01, kernel=rbf;, score=0.963 total time=   0.0s\n",
            "[CV 2/5] END C=1000, decision_function_shape=ovo, gamma=0.01, kernel=rbf;, score=0.975 total time=   0.0s\n",
            "[CV 3/5] END C=1000, decision_function_shape=ovo, gamma=0.01, kernel=rbf;, score=0.955 total time=   0.0s\n",
            "[CV 4/5] END C=1000, decision_function_shape=ovo, gamma=0.01, kernel=rbf;, score=0.979 total time=   0.0s\n",
            "[CV 5/5] END C=1000, decision_function_shape=ovo, gamma=0.01, kernel=rbf;, score=0.979 total time=   0.0s\n",
            "[CV 1/5] END C=1000, decision_function_shape=ovo, gamma=0.01, kernel=linear;, score=0.872 total time=   0.9s\n",
            "[CV 2/5] END C=1000, decision_function_shape=ovo, gamma=0.01, kernel=linear;, score=0.847 total time=   0.9s\n",
            "[CV 3/5] END C=1000, decision_function_shape=ovo, gamma=0.01, kernel=linear;, score=0.864 total time=   0.9s\n",
            "[CV 4/5] END C=1000, decision_function_shape=ovo, gamma=0.01, kernel=linear;, score=0.831 total time=   0.8s\n",
            "[CV 5/5] END C=1000, decision_function_shape=ovo, gamma=0.01, kernel=linear;, score=0.842 total time=   0.8s\n",
            "[CV 1/5] END C=1000, decision_function_shape=ovo, gamma=0.001, kernel=rbf;, score=0.901 total time=   0.0s\n",
            "[CV 2/5] END C=1000, decision_function_shape=ovo, gamma=0.001, kernel=rbf;, score=0.897 total time=   0.0s\n",
            "[CV 3/5] END C=1000, decision_function_shape=ovo, gamma=0.001, kernel=rbf;, score=0.868 total time=   0.0s\n",
            "[CV 4/5] END C=1000, decision_function_shape=ovo, gamma=0.001, kernel=rbf;, score=0.864 total time=   0.0s\n",
            "[CV 5/5] END C=1000, decision_function_shape=ovo, gamma=0.001, kernel=rbf;, score=0.863 total time=   0.0s\n",
            "[CV 1/5] END C=1000, decision_function_shape=ovo, gamma=0.001, kernel=linear;, score=0.872 total time=   0.9s\n",
            "[CV 2/5] END C=1000, decision_function_shape=ovo, gamma=0.001, kernel=linear;, score=0.847 total time=   0.9s\n",
            "[CV 3/5] END C=1000, decision_function_shape=ovo, gamma=0.001, kernel=linear;, score=0.864 total time=   0.9s\n",
            "[CV 4/5] END C=1000, decision_function_shape=ovo, gamma=0.001, kernel=linear;, score=0.831 total time=   0.8s\n",
            "[CV 5/5] END C=1000, decision_function_shape=ovo, gamma=0.001, kernel=linear;, score=0.842 total time=   0.8s\n",
            "[CV 1/5] END C=1000, decision_function_shape=ovo, gamma=0.0001, kernel=rbf;, score=0.855 total time=   0.0s\n",
            "[CV 2/5] END C=1000, decision_function_shape=ovo, gamma=0.0001, kernel=rbf;, score=0.843 total time=   0.0s\n",
            "[CV 3/5] END C=1000, decision_function_shape=ovo, gamma=0.0001, kernel=rbf;, score=0.839 total time=   0.0s\n",
            "[CV 4/5] END C=1000, decision_function_shape=ovo, gamma=0.0001, kernel=rbf;, score=0.826 total time=   0.0s\n",
            "[CV 5/5] END C=1000, decision_function_shape=ovo, gamma=0.0001, kernel=rbf;, score=0.842 total time=   0.0s\n",
            "[CV 1/5] END C=1000, decision_function_shape=ovo, gamma=0.0001, kernel=linear;, score=0.872 total time=   0.9s\n",
            "[CV 2/5] END C=1000, decision_function_shape=ovo, gamma=0.0001, kernel=linear;, score=0.847 total time=   0.9s\n",
            "[CV 3/5] END C=1000, decision_function_shape=ovo, gamma=0.0001, kernel=linear;, score=0.864 total time=   0.9s\n",
            "[CV 4/5] END C=1000, decision_function_shape=ovo, gamma=0.0001, kernel=linear;, score=0.831 total time=   0.8s\n",
            "[CV 5/5] END C=1000, decision_function_shape=ovo, gamma=0.0001, kernel=linear;, score=0.842 total time=   0.8s\n",
            "[CV 1/5] END C=1000, decision_function_shape=ovr, gamma=1, kernel=rbf;, score=0.971 total time=   0.1s\n",
            "[CV 2/5] END C=1000, decision_function_shape=ovr, gamma=1, kernel=rbf;, score=0.975 total time=   0.1s\n",
            "[CV 3/5] END C=1000, decision_function_shape=ovr, gamma=1, kernel=rbf;, score=0.955 total time=   0.1s\n",
            "[CV 4/5] END C=1000, decision_function_shape=ovr, gamma=1, kernel=rbf;, score=0.979 total time=   0.1s\n",
            "[CV 5/5] END C=1000, decision_function_shape=ovr, gamma=1, kernel=rbf;, score=0.971 total time=   0.1s\n",
            "[CV 1/5] END C=1000, decision_function_shape=ovr, gamma=1, kernel=linear;, score=0.872 total time=   0.9s\n",
            "[CV 2/5] END C=1000, decision_function_shape=ovr, gamma=1, kernel=linear;, score=0.847 total time=   0.9s\n",
            "[CV 3/5] END C=1000, decision_function_shape=ovr, gamma=1, kernel=linear;, score=0.864 total time=   0.9s\n",
            "[CV 4/5] END C=1000, decision_function_shape=ovr, gamma=1, kernel=linear;, score=0.831 total time=   0.8s\n",
            "[CV 5/5] END C=1000, decision_function_shape=ovr, gamma=1, kernel=linear;, score=0.842 total time=   0.8s\n",
            "[CV 1/5] END C=1000, decision_function_shape=ovr, gamma=0.1, kernel=rbf;, score=0.979 total time=   0.0s\n",
            "[CV 2/5] END C=1000, decision_function_shape=ovr, gamma=0.1, kernel=rbf;, score=0.963 total time=   0.0s\n",
            "[CV 3/5] END C=1000, decision_function_shape=ovr, gamma=0.1, kernel=rbf;, score=0.983 total time=   0.0s\n",
            "[CV 4/5] END C=1000, decision_function_shape=ovr, gamma=0.1, kernel=rbf;, score=0.988 total time=   0.0s\n",
            "[CV 5/5] END C=1000, decision_function_shape=ovr, gamma=0.1, kernel=rbf;, score=0.988 total time=   0.0s\n",
            "[CV 1/5] END C=1000, decision_function_shape=ovr, gamma=0.1, kernel=linear;, score=0.872 total time=   0.9s\n",
            "[CV 2/5] END C=1000, decision_function_shape=ovr, gamma=0.1, kernel=linear;, score=0.847 total time=   0.9s\n",
            "[CV 3/5] END C=1000, decision_function_shape=ovr, gamma=0.1, kernel=linear;, score=0.864 total time=   0.9s\n",
            "[CV 4/5] END C=1000, decision_function_shape=ovr, gamma=0.1, kernel=linear;, score=0.831 total time=   0.8s\n",
            "[CV 5/5] END C=1000, decision_function_shape=ovr, gamma=0.1, kernel=linear;, score=0.842 total time=   0.8s\n",
            "[CV 1/5] END C=1000, decision_function_shape=ovr, gamma=0.01, kernel=rbf;, score=0.963 total time=   0.0s\n",
            "[CV 2/5] END C=1000, decision_function_shape=ovr, gamma=0.01, kernel=rbf;, score=0.975 total time=   0.0s\n",
            "[CV 3/5] END C=1000, decision_function_shape=ovr, gamma=0.01, kernel=rbf;, score=0.955 total time=   0.0s\n",
            "[CV 4/5] END C=1000, decision_function_shape=ovr, gamma=0.01, kernel=rbf;, score=0.979 total time=   0.0s\n",
            "[CV 5/5] END C=1000, decision_function_shape=ovr, gamma=0.01, kernel=rbf;, score=0.979 total time=   0.0s\n",
            "[CV 1/5] END C=1000, decision_function_shape=ovr, gamma=0.01, kernel=linear;, score=0.872 total time=   0.9s\n",
            "[CV 2/5] END C=1000, decision_function_shape=ovr, gamma=0.01, kernel=linear;, score=0.847 total time=   0.9s\n",
            "[CV 3/5] END C=1000, decision_function_shape=ovr, gamma=0.01, kernel=linear;, score=0.864 total time=   0.9s\n",
            "[CV 4/5] END C=1000, decision_function_shape=ovr, gamma=0.01, kernel=linear;, score=0.831 total time=   0.8s\n",
            "[CV 5/5] END C=1000, decision_function_shape=ovr, gamma=0.01, kernel=linear;, score=0.842 total time=   0.8s\n",
            "[CV 1/5] END C=1000, decision_function_shape=ovr, gamma=0.001, kernel=rbf;, score=0.901 total time=   0.0s\n",
            "[CV 2/5] END C=1000, decision_function_shape=ovr, gamma=0.001, kernel=rbf;, score=0.897 total time=   0.0s\n",
            "[CV 3/5] END C=1000, decision_function_shape=ovr, gamma=0.001, kernel=rbf;, score=0.868 total time=   0.0s\n",
            "[CV 4/5] END C=1000, decision_function_shape=ovr, gamma=0.001, kernel=rbf;, score=0.864 total time=   0.0s\n",
            "[CV 5/5] END C=1000, decision_function_shape=ovr, gamma=0.001, kernel=rbf;, score=0.863 total time=   0.0s\n",
            "[CV 1/5] END C=1000, decision_function_shape=ovr, gamma=0.001, kernel=linear;, score=0.872 total time=   0.9s\n",
            "[CV 2/5] END C=1000, decision_function_shape=ovr, gamma=0.001, kernel=linear;, score=0.847 total time=   0.9s\n",
            "[CV 3/5] END C=1000, decision_function_shape=ovr, gamma=0.001, kernel=linear;, score=0.864 total time=   0.9s\n",
            "[CV 4/5] END C=1000, decision_function_shape=ovr, gamma=0.001, kernel=linear;, score=0.831 total time=   0.8s\n",
            "[CV 5/5] END C=1000, decision_function_shape=ovr, gamma=0.001, kernel=linear;, score=0.842 total time=   0.7s\n",
            "[CV 1/5] END C=1000, decision_function_shape=ovr, gamma=0.0001, kernel=rbf;, score=0.855 total time=   0.0s\n",
            "[CV 2/5] END C=1000, decision_function_shape=ovr, gamma=0.0001, kernel=rbf;, score=0.843 total time=   0.0s\n",
            "[CV 3/5] END C=1000, decision_function_shape=ovr, gamma=0.0001, kernel=rbf;, score=0.839 total time=   0.0s\n",
            "[CV 4/5] END C=1000, decision_function_shape=ovr, gamma=0.0001, kernel=rbf;, score=0.826 total time=   0.0s\n",
            "[CV 5/5] END C=1000, decision_function_shape=ovr, gamma=0.0001, kernel=rbf;, score=0.842 total time=   0.0s\n",
            "[CV 1/5] END C=1000, decision_function_shape=ovr, gamma=0.0001, kernel=linear;, score=0.872 total time=   0.9s\n",
            "[CV 2/5] END C=1000, decision_function_shape=ovr, gamma=0.0001, kernel=linear;, score=0.847 total time=   0.9s\n",
            "[CV 3/5] END C=1000, decision_function_shape=ovr, gamma=0.0001, kernel=linear;, score=0.864 total time=   0.9s\n",
            "[CV 4/5] END C=1000, decision_function_shape=ovr, gamma=0.0001, kernel=linear;, score=0.831 total time=   0.8s\n",
            "[CV 5/5] END C=1000, decision_function_shape=ovr, gamma=0.0001, kernel=linear;, score=0.842 total time=   0.8s\n",
            " ####### SVM #######\n",
            "{'C': 100, 'decision_function_shape': 'ovo', 'gamma': 0.1, 'kernel': 'rbf'}\n",
            "[1, 2, 3, 4, 5, 6, 7, 8, 9, 10, 11, 12, 13, 14, 15, 16, 17, 18, 19, 20, 21, 22, 23, 24, 25, 26, 27, 28, 29, 30]\n",
            "{'n_neighbors': [1, 2, 3, 4, 5, 6, 7, 8, 9, 10, 11, 12, 13, 14, 15, 16, 17, 18, 19, 20, 21, 22, 23, 24, 25, 26, 27, 28, 29, 30]}\n",
            "####### KNN ######\n",
            "{'n_neighbors': 5}\n"
          ]
        }
      ]
    },
    {
      "cell_type": "code",
      "source": [
        "import pandas as pd\n",
        "row_num = 0\n",
        "compiler_compare = pd.DataFrame()"
      ],
      "metadata": {
        "id": "a6wwJ311mZm6"
      },
      "execution_count": null,
      "outputs": []
    },
    {
      "cell_type": "code",
      "source": [
        "#DECISION TREE\n",
        "y_pred = dt_gs.predict(X_train)\n",
        "cas = accuracy_score(y_train,y_pred)\n",
        "print(\"Accuracy score for training data in decision tree is : {}\".format(cas))\n",
        "print(\"Confusion matrix for decision tree is : \")\n",
        "print(confusion_matrix(y_pred,y_train))\n",
        "compiler_compare.loc[row_num, 'Name'] = 'Decision Tree GS'\n",
        "compiler_compare.loc[row_num, 'Train Accuracy Score'] = cas*100"
      ],
      "metadata": {
        "id": "jcRLpB1vmdqI",
        "colab": {
          "base_uri": "https://localhost:8080/"
        },
        "outputId": "50d4bbc1-8c0f-4f8f-f4ed-1be4266cc4fe"
      },
      "execution_count": null,
      "outputs": [
        {
          "output_type": "stream",
          "name": "stdout",
          "text": [
            "Accuracy score for training data in decision tree is : 0.9818031430934657\n",
            "Confusion matrix for decision tree is : \n",
            "[[840  10   0   2]\n",
            " [  2 262   2   4]\n",
            " [  0   0  44   0]\n",
            " [  0   1   1  41]]\n"
          ]
        }
      ]
    },
    {
      "cell_type": "code",
      "source": [
        "y_pred = dt_gs.predict(X_test)\n",
        "cas = accuracy_score(y_test,y_pred)\n",
        "print(\"Accuracy score for training data in decision tree is : {}\".format(cas))\n",
        "print(\"Confusion matrix for decision tree is : \")\n",
        "print(confusion_matrix(y_pred,y_test))\n",
        "print(\"Classification report for decision tree is : \")\n",
        "print(classification_report(y_pred,y_test))\n",
        "compiler_compare.loc[row_num, 'Test Accuracy Score'] = cas*100\n",
        "row_num+=1"
      ],
      "metadata": {
        "id": "NOCez1XDmlf8",
        "colab": {
          "base_uri": "https://localhost:8080/"
        },
        "outputId": "6f2da781-f891-491f-b05f-b43055d2a94b"
      },
      "execution_count": null,
      "outputs": [
        {
          "output_type": "stream",
          "name": "stdout",
          "text": [
            "Accuracy score for training data in decision tree is : 0.9267822736030829\n",
            "Confusion matrix for decision tree is : \n",
            "[[359  15   0   1]\n",
            " [  9  92   0   7]\n",
            " [  0   0  16   0]\n",
            " [  0   4   2  14]]\n",
            "Classification report for decision tree is : \n",
            "              precision    recall  f1-score   support\n",
            "\n",
            "           1       0.98      0.96      0.97       375\n",
            "           2       0.83      0.85      0.84       108\n",
            "           3       0.89      1.00      0.94        16\n",
            "           4       0.64      0.70      0.67        20\n",
            "\n",
            "    accuracy                           0.93       519\n",
            "   macro avg       0.83      0.88      0.85       519\n",
            "weighted avg       0.93      0.93      0.93       519\n",
            "\n"
          ]
        }
      ]
    },
    {
      "cell_type": "code",
      "source": [
        "#RANDOM FOREST\n",
        "y_pred = rf_gs.predict(X_train)\n",
        "cas = accuracy_score(y_train,y_pred)\n",
        "print(\"Accuracy score for training data in Random Forest is : {}\".format(cas))\n",
        "print(\"Confusion matrix for Random Forest is : \")\n",
        "print(confusion_matrix(y_pred,y_train))\n",
        "compiler_compare.loc[row_num, 'Name'] = 'Random Forest'\n",
        "compiler_compare.loc[row_num, 'Train Accuracy Score'] = cas*100"
      ],
      "metadata": {
        "id": "OTXS8lm6mp_9",
        "colab": {
          "base_uri": "https://localhost:8080/"
        },
        "outputId": "6f8a05b3-77e2-41aa-b71a-4fd3489e0886"
      },
      "execution_count": null,
      "outputs": [
        {
          "output_type": "stream",
          "name": "stdout",
          "text": [
            "Accuracy score for training data in Random Forest is : 0.9884201819685691\n",
            "Confusion matrix for Random Forest is : \n",
            "[[830   0   0   0]\n",
            " [ 10 271   0   0]\n",
            " [  0   1  47   0]\n",
            " [  2   1   0  47]]\n"
          ]
        }
      ]
    },
    {
      "cell_type": "code",
      "source": [
        "y_pred = rf_gs.predict(X_test)\n",
        "cas = accuracy_score(y_test,y_pred)\n",
        "print(\"Accuracy score for training data in Random Forest is : {}\".format(cas))\n",
        "print(\"Confusion matrix for Random Forest is : \")\n",
        "print(confusion_matrix(y_pred,y_test))\n",
        "print(\"Classification report for Random Forest is : \")\n",
        "print(classification_report(y_pred,y_test))\n",
        "compiler_compare.loc[row_num, 'Test Accuracy Score'] = cas*100\n",
        "row_num+=1"
      ],
      "metadata": {
        "id": "SZzqeHSumutK",
        "colab": {
          "base_uri": "https://localhost:8080/"
        },
        "outputId": "d318f9de-fd89-4002-9194-2ba62579c791"
      },
      "execution_count": null,
      "outputs": [
        {
          "output_type": "stream",
          "name": "stdout",
          "text": [
            "Accuracy score for training data in Random Forest is : 0.9595375722543352\n",
            "Confusion matrix for Random Forest is : \n",
            "[[356   3   0   0]\n",
            " [ 12 104   0   1]\n",
            " [  0   1  18   1]\n",
            " [  0   3   0  20]]\n",
            "Classification report for Random Forest is : \n",
            "              precision    recall  f1-score   support\n",
            "\n",
            "           1       0.97      0.99      0.98       359\n",
            "           2       0.94      0.89      0.91       117\n",
            "           3       1.00      0.90      0.95        20\n",
            "           4       0.91      0.87      0.89        23\n",
            "\n",
            "    accuracy                           0.96       519\n",
            "   macro avg       0.95      0.91      0.93       519\n",
            "weighted avg       0.96      0.96      0.96       519\n",
            "\n"
          ]
        }
      ]
    },
    {
      "cell_type": "code",
      "source": [
        "#Support Vector Machine\n",
        "y_pred = svc_gs.predict(X_train)\n",
        "cas = accuracy_score(y_train,y_pred)\n",
        "print(\"Accuracy score for training data in SVM is : {}\".format(cas))\n",
        "print(\"Confusion matrix for SVM is : \")\n",
        "print(confusion_matrix(y_pred,y_train))\n",
        "compiler_compare.loc[row_num, 'Name'] = 'SVM'\n",
        "compiler_compare.loc[row_num, 'Train Accuracy Score'] = cas*100"
      ],
      "metadata": {
        "id": "PnV45dB2myBr",
        "colab": {
          "base_uri": "https://localhost:8080/"
        },
        "outputId": "a6d7d66f-4397-4342-864d-0a3823174705"
      },
      "execution_count": null,
      "outputs": [
        {
          "output_type": "stream",
          "name": "stdout",
          "text": [
            "Accuracy score for training data in SVM is : 0.9991728701406121\n",
            "Confusion matrix for SVM is : \n",
            "[[841   0   0   0]\n",
            " [  1 273   0   0]\n",
            " [  0   0  47   0]\n",
            " [  0   0   0  47]]\n"
          ]
        }
      ]
    },
    {
      "cell_type": "code",
      "source": [
        "y_pred = svc_gs.predict(X_test)\n",
        "cas = accuracy_score(y_test,y_pred)\n",
        "print(\"Accuracy score for training data in SVM is : {}\".format(cas))\n",
        "print(\"Confusion matrix for SVM is : \")\n",
        "print(confusion_matrix(y_pred,y_test))\n",
        "print(\"Classification report for SVM is : \")\n",
        "print(classification_report(y_pred,y_test))\n",
        "compiler_compare.loc[row_num, 'Test Accuracy Score'] = cas*100\n",
        "row_num+=1"
      ],
      "metadata": {
        "id": "QwvkD9fCm3Vv",
        "colab": {
          "base_uri": "https://localhost:8080/"
        },
        "outputId": "014cb01a-43b1-4b12-f906-b3d353965fc5"
      },
      "execution_count": null,
      "outputs": [
        {
          "output_type": "stream",
          "name": "stdout",
          "text": [
            "Accuracy score for training data in SVM is : 0.9691714836223507\n",
            "Confusion matrix for SVM is : \n",
            "[[362   6   0   0]\n",
            " [  6 103   0   2]\n",
            " [  0   0  18   0]\n",
            " [  0   2   0  20]]\n",
            "Classification report for SVM is : \n",
            "              precision    recall  f1-score   support\n",
            "\n",
            "           1       0.98      0.98      0.98       368\n",
            "           2       0.93      0.93      0.93       111\n",
            "           3       1.00      1.00      1.00        18\n",
            "           4       0.91      0.91      0.91        22\n",
            "\n",
            "    accuracy                           0.97       519\n",
            "   macro avg       0.96      0.96      0.96       519\n",
            "weighted avg       0.97      0.97      0.97       519\n",
            "\n"
          ]
        }
      ]
    },
    {
      "cell_type": "code",
      "source": [
        "#K-Nearest Neighbours\n",
        "y_pred = knn_gs.predict(X_train)\n",
        "cas = accuracy_score(y_train,y_pred)\n",
        "print(\"Accuracy score for training data in KNN is : {}\".format(cas))\n",
        "print(\"Confusion matrix for KNN is : \")\n",
        "print(confusion_matrix(y_pred,y_train))\n",
        "compiler_compare.loc[row_num, 'Name'] = 'KNN'\n",
        "compiler_compare.loc[row_num, 'Train Accuracy Score'] = cas*100"
      ],
      "metadata": {
        "id": "vJA3ZvJrm7AZ",
        "colab": {
          "base_uri": "https://localhost:8080/"
        },
        "outputId": "3c943509-6d54-4a5b-e49c-a3213075e1e4"
      },
      "execution_count": null,
      "outputs": [
        {
          "output_type": "stream",
          "name": "stdout",
          "text": [
            "Accuracy score for training data in KNN is : 0.9611248966087675\n",
            "Confusion matrix for KNN is : \n",
            "[[839  16   0   3]\n",
            " [  2 257   9  14]\n",
            " [  0   0  37   1]\n",
            " [  1   0   1  29]]\n"
          ]
        }
      ]
    },
    {
      "cell_type": "code",
      "source": [
        "y_pred = knn_gs.predict(X_test)\n",
        "cas = accuracy_score(y_test,y_pred)\n",
        "print(\"Accuracy score for training data in KNN is : {}\".format(cas))\n",
        "print(\"Confusion matrix for KNN is : \")\n",
        "print(confusion_matrix(y_pred,y_test))\n",
        "print(\"Classification report for KNN is : \")\n",
        "print(classification_report(y_pred,y_test))\n",
        "compiler_compare.loc[row_num, 'Test Accuracy Score'] = cas*100\n",
        "row_num+=1"
      ],
      "metadata": {
        "id": "ApHK5sr-nAtz",
        "colab": {
          "base_uri": "https://localhost:8080/"
        },
        "outputId": "2a22fce0-5c47-4832-c380-72428c39c47c"
      },
      "execution_count": null,
      "outputs": [
        {
          "output_type": "stream",
          "name": "stdout",
          "text": [
            "Accuracy score for training data in KNN is : 0.9190751445086706\n",
            "Confusion matrix for KNN is : \n",
            "[[361  19   0   6]\n",
            " [  7  92   3   7]\n",
            " [  0   0  15   0]\n",
            " [  0   0   0   9]]\n",
            "Classification report for KNN is : \n",
            "              precision    recall  f1-score   support\n",
            "\n",
            "           1       0.98      0.94      0.96       386\n",
            "           2       0.83      0.84      0.84       109\n",
            "           3       0.83      1.00      0.91        15\n",
            "           4       0.41      1.00      0.58         9\n",
            "\n",
            "    accuracy                           0.92       519\n",
            "   macro avg       0.76      0.94      0.82       519\n",
            "weighted avg       0.93      0.92      0.92       519\n",
            "\n"
          ]
        }
      ]
    },
    {
      "cell_type": "code",
      "source": [
        "#BERNOULLI NB\n",
        "cl1.fit(X_train,y_train)\n",
        "y_pred = cl1.predict(X_train)\n",
        "cas = accuracy_score(y_train,y_pred)\n",
        "print(\"Accuracy score for training data in Bernoulli NB is : {}\".format(cas))\n",
        "print(\"Confusion matrix for Bernoulli NB is : \")\n",
        "print(confusion_matrix(y_pred,y_train))\n",
        "compiler_compare.loc[row_num, 'Name'] = 'BernoulliNB'\n",
        "compiler_compare.loc[row_num, 'Train Accuracy Score'] = cas*100"
      ],
      "metadata": {
        "id": "4ycq9zR3nD3r",
        "colab": {
          "base_uri": "https://localhost:8080/"
        },
        "outputId": "482646d9-8d73-46d6-b926-c303b31b91a0"
      },
      "execution_count": null,
      "outputs": [
        {
          "output_type": "stream",
          "name": "stdout",
          "text": [
            "Accuracy score for training data in Bernoulli NB is : 0.696443341604632\n",
            "Confusion matrix for Bernoulli NB is : \n",
            "[[842 273  47  47]\n",
            " [  0   0   0   0]\n",
            " [  0   0   0   0]\n",
            " [  0   0   0   0]]\n"
          ]
        }
      ]
    },
    {
      "cell_type": "code",
      "source": [
        "y_pred = cl1.predict(X_test)\n",
        "cas = accuracy_score(y_test,y_pred)\n",
        "print(\"Accuracy score for training data in Bernoulli NB is : {}\".format(cas))\n",
        "print(\"Confusion matrix for Bernoulli NB is : \")\n",
        "print(confusion_matrix(y_pred,y_test))\n",
        "print(\"Classification report for Bernoulli NB is : \")\n",
        "print(classification_report(y_pred,y_test))\n",
        "compiler_compare.loc[row_num, 'Test Accuracy Score'] = cas*100\n",
        "row_num+=1"
      ],
      "metadata": {
        "id": "LI2Lj8_znK62",
        "colab": {
          "base_uri": "https://localhost:8080/"
        },
        "outputId": "687ae942-1ba9-4c9d-fb01-1391fd8c2da0"
      },
      "execution_count": null,
      "outputs": [
        {
          "output_type": "stream",
          "name": "stdout",
          "text": [
            "Accuracy score for training data in Bernoulli NB is : 0.7090558766859345\n",
            "Confusion matrix for Bernoulli NB is : \n",
            "[[368 111  18  22]\n",
            " [  0   0   0   0]\n",
            " [  0   0   0   0]\n",
            " [  0   0   0   0]]\n",
            "Classification report for Bernoulli NB is : \n",
            "              precision    recall  f1-score   support\n",
            "\n",
            "           1       1.00      0.71      0.83       519\n",
            "           2       0.00      0.00      0.00         0\n",
            "           3       0.00      0.00      0.00         0\n",
            "           4       0.00      0.00      0.00         0\n",
            "\n",
            "    accuracy                           0.71       519\n",
            "   macro avg       0.25      0.18      0.21       519\n",
            "weighted avg       1.00      0.71      0.83       519\n",
            "\n"
          ]
        },
        {
          "output_type": "stream",
          "name": "stderr",
          "text": [
            "/usr/local/lib/python3.7/dist-packages/sklearn/metrics/_classification.py:1318: UndefinedMetricWarning: Recall and F-score are ill-defined and being set to 0.0 in labels with no true samples. Use `zero_division` parameter to control this behavior.\n",
            "  _warn_prf(average, modifier, msg_start, len(result))\n",
            "/usr/local/lib/python3.7/dist-packages/sklearn/metrics/_classification.py:1318: UndefinedMetricWarning: Recall and F-score are ill-defined and being set to 0.0 in labels with no true samples. Use `zero_division` parameter to control this behavior.\n",
            "  _warn_prf(average, modifier, msg_start, len(result))\n",
            "/usr/local/lib/python3.7/dist-packages/sklearn/metrics/_classification.py:1318: UndefinedMetricWarning: Recall and F-score are ill-defined and being set to 0.0 in labels with no true samples. Use `zero_division` parameter to control this behavior.\n",
            "  _warn_prf(average, modifier, msg_start, len(result))\n"
          ]
        }
      ]
    },
    {
      "cell_type": "code",
      "source": [
        "#GAUSSIAN NB\n",
        "cl2.fit(X_train,y_train)\n",
        "y_pred = cl2.predict(X_train)\n",
        "cas = accuracy_score(y_train,y_pred)\n",
        "print(\"Accuracy score for training data in Gaussian NB is : {}\".format(cas))\n",
        "print(\"Confusion matrix for Gaussian NB is : \")\n",
        "print(confusion_matrix(y_pred,y_train))\n",
        "compiler_compare.loc[row_num, 'Name'] = 'GaussianNB'\n",
        "compiler_compare.loc[row_num, 'Train Accuracy Score'] = cas*100"
      ],
      "metadata": {
        "id": "uW9igWOYnQFh",
        "colab": {
          "base_uri": "https://localhost:8080/"
        },
        "outputId": "6a7a8481-8710-4f11-df50-ce5935508163"
      },
      "execution_count": null,
      "outputs": [
        {
          "output_type": "stream",
          "name": "stdout",
          "text": [
            "Accuracy score for training data in Gaussian NB is : 0.706368899917287\n",
            "Confusion matrix for Gaussian NB is : \n",
            "[[731 102   0   6]\n",
            " [ 26  60   0   4]\n",
            " [ 85  99  47  21]\n",
            " [  0  12   0  16]]\n"
          ]
        }
      ]
    },
    {
      "cell_type": "code",
      "source": [
        "y_pred = cl2.predict(X_test)\n",
        "cas = accuracy_score(y_test,y_pred)\n",
        "print(\"Accuracy score for training data in Gaussian NB is : {}\".format(cas))\n",
        "print(\"Confusion matrix for Gaussian NB is : \")\n",
        "print(confusion_matrix(y_pred,y_test))\n",
        "print(\"Classification report for Bernoulli NB is : \")\n",
        "print(classification_report(y_pred,y_test))\n",
        "compiler_compare.loc[row_num, 'Test Accuracy Score'] = cas*100\n",
        "row_num+=1"
      ],
      "metadata": {
        "id": "EUS80S-ACFqo",
        "colab": {
          "base_uri": "https://localhost:8080/"
        },
        "outputId": "04982064-3425-453a-a7f5-23c17fda51aa"
      },
      "execution_count": null,
      "outputs": [
        {
          "output_type": "stream",
          "name": "stdout",
          "text": [
            "Accuracy score for training data in Gaussian NB is : 0.7090558766859345\n",
            "Confusion matrix for Gaussian NB is : \n",
            "[[325  48   0   6]\n",
            " [  9  22   0   4]\n",
            " [ 32  39  18   9]\n",
            " [  2   2   0   3]]\n",
            "Classification report for Bernoulli NB is : \n",
            "              precision    recall  f1-score   support\n",
            "\n",
            "           1       0.88      0.86      0.87       379\n",
            "           2       0.20      0.63      0.30        35\n",
            "           3       1.00      0.18      0.31        98\n",
            "           4       0.14      0.43      0.21         7\n",
            "\n",
            "    accuracy                           0.71       519\n",
            "   macro avg       0.55      0.52      0.42       519\n",
            "weighted avg       0.85      0.71      0.72       519\n",
            "\n"
          ]
        }
      ]
    },
    {
      "cell_type": "code",
      "source": [
        "#Accuracy Table\n",
        "\n",
        "compiler_compare"
      ],
      "metadata": {
        "id": "uAquqTNACLD2",
        "colab": {
          "base_uri": "https://localhost:8080/",
          "height": 238
        },
        "outputId": "503b4067-d223-44ef-e6fd-297eae2582b1"
      },
      "execution_count": null,
      "outputs": [
        {
          "output_type": "execute_result",
          "data": {
            "text/plain": [
              "               Name  Train Accuracy Score  Test Accuracy Score\n",
              "0  Decision Tree GS             98.180314            92.678227\n",
              "1     Random Forest             98.842018            95.953757\n",
              "2               SVM             99.917287            96.917148\n",
              "3               KNN             96.112490            91.907514\n",
              "4       BernoulliNB             69.644334            70.905588\n",
              "5        GaussianNB             70.636890            70.905588"
            ],
            "text/html": [
              "\n",
              "  <div id=\"df-19554c71-2129-4997-b569-70296422c3a2\">\n",
              "    <div class=\"colab-df-container\">\n",
              "      <div>\n",
              "<style scoped>\n",
              "    .dataframe tbody tr th:only-of-type {\n",
              "        vertical-align: middle;\n",
              "    }\n",
              "\n",
              "    .dataframe tbody tr th {\n",
              "        vertical-align: top;\n",
              "    }\n",
              "\n",
              "    .dataframe thead th {\n",
              "        text-align: right;\n",
              "    }\n",
              "</style>\n",
              "<table border=\"1\" class=\"dataframe\">\n",
              "  <thead>\n",
              "    <tr style=\"text-align: right;\">\n",
              "      <th></th>\n",
              "      <th>Name</th>\n",
              "      <th>Train Accuracy Score</th>\n",
              "      <th>Test Accuracy Score</th>\n",
              "    </tr>\n",
              "  </thead>\n",
              "  <tbody>\n",
              "    <tr>\n",
              "      <th>0</th>\n",
              "      <td>Decision Tree GS</td>\n",
              "      <td>98.180314</td>\n",
              "      <td>92.678227</td>\n",
              "    </tr>\n",
              "    <tr>\n",
              "      <th>1</th>\n",
              "      <td>Random Forest</td>\n",
              "      <td>98.842018</td>\n",
              "      <td>95.953757</td>\n",
              "    </tr>\n",
              "    <tr>\n",
              "      <th>2</th>\n",
              "      <td>SVM</td>\n",
              "      <td>99.917287</td>\n",
              "      <td>96.917148</td>\n",
              "    </tr>\n",
              "    <tr>\n",
              "      <th>3</th>\n",
              "      <td>KNN</td>\n",
              "      <td>96.112490</td>\n",
              "      <td>91.907514</td>\n",
              "    </tr>\n",
              "    <tr>\n",
              "      <th>4</th>\n",
              "      <td>BernoulliNB</td>\n",
              "      <td>69.644334</td>\n",
              "      <td>70.905588</td>\n",
              "    </tr>\n",
              "    <tr>\n",
              "      <th>5</th>\n",
              "      <td>GaussianNB</td>\n",
              "      <td>70.636890</td>\n",
              "      <td>70.905588</td>\n",
              "    </tr>\n",
              "  </tbody>\n",
              "</table>\n",
              "</div>\n",
              "      <button class=\"colab-df-convert\" onclick=\"convertToInteractive('df-19554c71-2129-4997-b569-70296422c3a2')\"\n",
              "              title=\"Convert this dataframe to an interactive table.\"\n",
              "              style=\"display:none;\">\n",
              "        \n",
              "  <svg xmlns=\"http://www.w3.org/2000/svg\" height=\"24px\"viewBox=\"0 0 24 24\"\n",
              "       width=\"24px\">\n",
              "    <path d=\"M0 0h24v24H0V0z\" fill=\"none\"/>\n",
              "    <path d=\"M18.56 5.44l.94 2.06.94-2.06 2.06-.94-2.06-.94-.94-2.06-.94 2.06-2.06.94zm-11 1L8.5 8.5l.94-2.06 2.06-.94-2.06-.94L8.5 2.5l-.94 2.06-2.06.94zm10 10l.94 2.06.94-2.06 2.06-.94-2.06-.94-.94-2.06-.94 2.06-2.06.94z\"/><path d=\"M17.41 7.96l-1.37-1.37c-.4-.4-.92-.59-1.43-.59-.52 0-1.04.2-1.43.59L10.3 9.45l-7.72 7.72c-.78.78-.78 2.05 0 2.83L4 21.41c.39.39.9.59 1.41.59.51 0 1.02-.2 1.41-.59l7.78-7.78 2.81-2.81c.8-.78.8-2.07 0-2.86zM5.41 20L4 18.59l7.72-7.72 1.47 1.35L5.41 20z\"/>\n",
              "  </svg>\n",
              "      </button>\n",
              "      \n",
              "  <style>\n",
              "    .colab-df-container {\n",
              "      display:flex;\n",
              "      flex-wrap:wrap;\n",
              "      gap: 12px;\n",
              "    }\n",
              "\n",
              "    .colab-df-convert {\n",
              "      background-color: #E8F0FE;\n",
              "      border: none;\n",
              "      border-radius: 50%;\n",
              "      cursor: pointer;\n",
              "      display: none;\n",
              "      fill: #1967D2;\n",
              "      height: 32px;\n",
              "      padding: 0 0 0 0;\n",
              "      width: 32px;\n",
              "    }\n",
              "\n",
              "    .colab-df-convert:hover {\n",
              "      background-color: #E2EBFA;\n",
              "      box-shadow: 0px 1px 2px rgba(60, 64, 67, 0.3), 0px 1px 3px 1px rgba(60, 64, 67, 0.15);\n",
              "      fill: #174EA6;\n",
              "    }\n",
              "\n",
              "    [theme=dark] .colab-df-convert {\n",
              "      background-color: #3B4455;\n",
              "      fill: #D2E3FC;\n",
              "    }\n",
              "\n",
              "    [theme=dark] .colab-df-convert:hover {\n",
              "      background-color: #434B5C;\n",
              "      box-shadow: 0px 1px 3px 1px rgba(0, 0, 0, 0.15);\n",
              "      filter: drop-shadow(0px 1px 2px rgba(0, 0, 0, 0.3));\n",
              "      fill: #FFFFFF;\n",
              "    }\n",
              "  </style>\n",
              "\n",
              "      <script>\n",
              "        const buttonEl =\n",
              "          document.querySelector('#df-19554c71-2129-4997-b569-70296422c3a2 button.colab-df-convert');\n",
              "        buttonEl.style.display =\n",
              "          google.colab.kernel.accessAllowed ? 'block' : 'none';\n",
              "\n",
              "        async function convertToInteractive(key) {\n",
              "          const element = document.querySelector('#df-19554c71-2129-4997-b569-70296422c3a2');\n",
              "          const dataTable =\n",
              "            await google.colab.kernel.invokeFunction('convertToInteractive',\n",
              "                                                     [key], {});\n",
              "          if (!dataTable) return;\n",
              "\n",
              "          const docLinkHtml = 'Like what you see? Visit the ' +\n",
              "            '<a target=\"_blank\" href=https://colab.research.google.com/notebooks/data_table.ipynb>data table notebook</a>'\n",
              "            + ' to learn more about interactive tables.';\n",
              "          element.innerHTML = '';\n",
              "          dataTable['output_type'] = 'display_data';\n",
              "          await google.colab.output.renderOutput(dataTable, element);\n",
              "          const docLink = document.createElement('div');\n",
              "          docLink.innerHTML = docLinkHtml;\n",
              "          element.appendChild(docLink);\n",
              "        }\n",
              "      </script>\n",
              "    </div>\n",
              "  </div>\n",
              "  "
            ]
          },
          "metadata": {},
          "execution_count": 43
        }
      ]
    },
    {
      "cell_type": "code",
      "source": [
        "import seaborn as sns\n",
        "sns.set_style(\"dark\")\n",
        "ax = compiler_compare.plot.barh(x='Name', rot=0, figsize=(10, 10))\n",
        "plt.yticks(size =16)\n",
        "plt.legend(loc='lower left')\n",
        "plt.ylabel(\"Compiler\" , size =20)\n",
        "plt.title(\"Compiler Accuracy Comparision\", size = 20)\n",
        "for index, value in enumerate(compiler_compare['Test Accuracy Score']):\n",
        "    plt.text(value+10, index+.12, str(value),size=16)\n",
        "for index, value in enumerate(compiler_compare['Train Accuracy Score']):\n",
        "    plt.text(value+10, index-.17, str(value),size=16)"
      ],
      "metadata": {
        "id": "TVvC9Ua8CQsz",
        "colab": {
          "base_uri": "https://localhost:8080/",
          "height": 612
        },
        "outputId": "c262f262-4a1b-4dac-e72c-19a021061a39"
      },
      "execution_count": null,
      "outputs": [
        {
          "output_type": "display_data",
          "data": {
            "text/plain": [
              "<Figure size 720x720 with 1 Axes>"
            ],
            "image/png": "[encoded data removed]"
          },
          "metadata": {}
        }
      ]
    },
    {
      "cell_type": "code",
      "source": [
        "#!pip install scikit"
      ],
      "metadata": {
        "id": "uOiwQCX94CFi"
      },
      "execution_count": null,
      "outputs": []
    },
    {
      "cell_type": "code",
      "source": [
        "import numpy\n",
        "import pandas\n",
        "from keras.utils import np_utils\n",
        "import matplotlib.pyplot as plt\n",
        "from tensorflow.keras.utils import to_categorical\n",
        "\n",
        "\n",
        "\n",
        "from sklearn.preprocessing import LabelEncoder\n",
        "from sklearn.model_selection import train_test_split\n",
        "#from sklearn.neighbors import KNeighborsClassifier\n",
        "from sklearn.metrics import accuracy_score\n",
        "\n",
        "\n",
        "\n",
        "from keras.models import Sequential\n",
        "from keras.layers import Dense\n",
        "from keras.layers import Dropout\n",
        "from keras.constraints import maxnorm\n",
        "\n",
        "\n",
        "\n",
        "# fix random seed for reproducibility\n",
        "seed = 7\n",
        "numpy.random.seed(seed)"
      ],
      "metadata": {
        "id": "D-ZSde584EMx"
      },
      "execution_count": null,
      "outputs": []
    },
    {
      "cell_type": "code",
      "source": [
        "# load dataset\n",
        "#dataframe = pandas.read_csv(r\"../input/car_evaluation.csv\")\n",
        "\n",
        "# Reading Data Set\n",
        "from google.colab import drive\n",
        "drive.mount(\"/content/gdrive\")\n",
        "\n",
        "\n",
        "# Importing the dataset (Link - https://drive.google.com/file/d/1GBP8p2PMLyo4KK_9CjnTF0g0pDiq85_m/view?usp=sharing)\n",
        "dataframe = pandas.read_csv('/content/gdrive/MyDrive/Dissertation dataset/car_evaluation (version 1).csv', header = 0)\n",
        "\n",
        "\n",
        "# Assign names to Columns\n",
        "dataframe.columns = ['buying','maint','doors','persons','lug_boot','safety','classes']\n",
        "\n",
        "# Encode Data\n",
        "dataframe.buying.replace(('vhigh','high','med','low'),(1,2,3,4), inplace=True)\n",
        "dataframe.maint.replace(('vhigh','high','med','low'),(1,2,3,4), inplace=True)\n",
        "dataframe.doors.replace(('2','3','4','5more'),(1,2,3,4), inplace=True)\n",
        "dataframe.persons.replace(('2','4','more'),(1,2,3), inplace=True)\n",
        "dataframe.lug_boot.replace(('small','med','big'),(1,2,3), inplace=True)\n",
        "dataframe.safety.replace(('low','med','high'),(1,2,3), inplace=True)\n",
        "dataframe.classes.replace(('unacc','acc','good','vgood'),(1,2,3,4), inplace=True)"
      ],
      "metadata": {
        "id": "BUSRTQTG4Hb3"
      },
      "execution_count": null,
      "outputs": []
    },
    {
      "cell_type": "code",
      "source": [
        "print(\"dataframe.head: \", dataframe.head())"
      ],
      "metadata": {
        "id": "TlaRu9xG4KKY"
      },
      "execution_count": null,
      "outputs": []
    },
    {
      "cell_type": "code",
      "source": [
        "print(\"dataframe.head: \", dataframe.head())"
      ],
      "metadata": {
        "id": "_CGTi-zh4MgV"
      },
      "execution_count": null,
      "outputs": []
    },
    {
      "cell_type": "code",
      "source": [
        "list = []\n",
        "for i in dataframe.classes:\n",
        "  if pandas.isna(i):\n",
        "    continue\n",
        "  else:\n",
        "    list.append(i)"
      ],
      "metadata": {
        "id": "BTNvxNKe4QWh"
      },
      "execution_count": null,
      "outputs": []
    },
    {
      "cell_type": "code",
      "source": [
        "plt.hist((list))"
      ],
      "metadata": {
        "id": "skdD6ugD4TUh"
      },
      "execution_count": null,
      "outputs": []
    },
    {
      "cell_type": "code",
      "source": [
        "dataframe.hist()"
      ],
      "metadata": {
        "id": "FmXvi5HK4VR7"
      },
      "execution_count": null,
      "outputs": []
    },
    {
      "cell_type": "code",
      "source": [
        "dataframe"
      ],
      "metadata": {
        "id": "rQqIzhTM4XWg"
      },
      "execution_count": null,
      "outputs": []
    },
    {
      "cell_type": "code",
      "source": [
        "dataset = dataframe.values\n",
        "\n",
        "\n",
        "X = dataset[:,0:6]\n",
        "Y = numpy.asarray(dataset[:,6], dtype=\"int64\")\n"
      ],
      "metadata": {
        "id": "Tcr2dS2w4cMm"
      },
      "execution_count": null,
      "outputs": []
    },
    {
      "cell_type": "code",
      "source": [
        "print(X)\n",
        "print(Y)"
      ],
      "metadata": {
        "id": "-Z7Gv_uL4eQ_"
      },
      "execution_count": null,
      "outputs": []
    },
    {
      "cell_type": "code",
      "source": [
        "# Split Data to Train and Test\n",
        "X_Train, X_Test, Y_Train, Y_Test = train_test_split(X, Y, test_size=0.2)\n",
        "\n",
        "# create model\n",
        "model = Sequential()\n",
        "model.add(Dense(25, input_dim=6, kernel_initializer='uniform', activation='relu'))\n",
        "model.add(Dense(30, kernel_initializer='uniform', activation='relu', kernel_constraint=maxnorm(3)))\n",
        "model.add(Dropout(0.2))\n",
        "model.add(Dense(10, kernel_initializer='uniform', activation='relu'))\n",
        "model.add(Dense(1, kernel_initializer='uniform', activation='relu'))\n",
        "\n",
        "# Compile model\n",
        "model.compile(loss='mse', optimizer='adam', metrics=['accuracy'])\n",
        "\n",
        "# Fit the model\n",
        "model.fit(X_Train, Y_Train, epochs=600, batch_size=10)\n",
        "\n",
        "# Evaluate the model\n",
        "scores = model.evaluate(X_Test, Y_Test)\n",
        "print(\"%s: %.2f%%\" % (model.metrics_names[1], scores[1]*100))\n"
      ],
      "metadata": {
        "id": "CTbuhZ3q4h0f"
      },
      "execution_count": null,
      "outputs": []
    }
  ]
}